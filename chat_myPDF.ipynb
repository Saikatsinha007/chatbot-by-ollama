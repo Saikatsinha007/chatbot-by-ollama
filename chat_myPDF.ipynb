{
 "cells": [
  {
   "cell_type": "code",
   "execution_count": 2,
   "metadata": {},
   "outputs": [
    {
     "name": "stdout",
     "output_type": "stream",
     "text": [
      "ok\n"
     ]
    }
   ],
   "source": [
    "print(\"ok\")"
   ]
  },
  {
   "cell_type": "code",
   "execution_count": 3,
   "metadata": {},
   "outputs": [
    {
     "name": "stdout",
     "output_type": "stream",
     "text": [
      "Note: you may need to restart the kernel to use updated packages.Collecting langchain-community\n",
      "  Using cached langchain_community-0.3.14-py3-none-any.whl.metadata (2.9 kB)\n",
      "Collecting faiss-cpu\n",
      "  Downloading faiss_cpu-1.9.0.post1-cp310-cp310-win_amd64.whl.metadata (4.5 kB)\n",
      "Collecting langchain-huggingface\n",
      "  Using cached langchain_huggingface-0.1.2-py3-none-any.whl.metadata (1.3 kB)\n",
      "Collecting pymupdf\n",
      "  Using cached pymupdf-1.25.1-cp39-abi3-win_amd64.whl.metadata (3.4 kB)\n",
      "Collecting tiktoken\n",
      "  Using cached tiktoken-0.8.0-cp310-cp310-win_amd64.whl.metadata (6.8 kB)\n",
      "Collecting langchain-ollama\n",
      "  Using cached langchain_ollama-0.2.2-py3-none-any.whl.metadata (1.9 kB)\n",
      "Collecting python-dotenv\n",
      "  Using cached python_dotenv-1.0.1-py3-none-any.whl.metadata (23 kB)\n",
      "Collecting PyYAML>=5.3 (from langchain-community)\n",
      "  Using cached PyYAML-6.0.2-cp310-cp310-win_amd64.whl.metadata (2.1 kB)\n",
      "Collecting SQLAlchemy<3,>=1.4 (from langchain-community)\n",
      "  Using cached SQLAlchemy-2.0.36-cp310-cp310-win_amd64.whl.metadata (9.9 kB)\n",
      "Collecting aiohttp<4.0.0,>=3.8.3 (from langchain-community)\n",
      "  Using cached aiohttp-3.11.11-cp310-cp310-win_amd64.whl.metadata (8.0 kB)\n",
      "Collecting dataclasses-json<0.7,>=0.5.7 (from langchain-community)\n",
      "  Using cached dataclasses_json-0.6.7-py3-none-any.whl.metadata (25 kB)\n",
      "Collecting httpx-sse<0.5.0,>=0.4.0 (from langchain-community)\n",
      "  Using cached httpx_sse-0.4.0-py3-none-any.whl.metadata (9.0 kB)\n",
      "Collecting langchain<0.4.0,>=0.3.14 (from langchain-community)\n",
      "  Using cached langchain-0.3.14-py3-none-any.whl.metadata (7.1 kB)\n",
      "Collecting langchain-core<0.4.0,>=0.3.29 (from langchain-community)\n",
      "  Using cached langchain_core-0.3.29-py3-none-any.whl.metadata (6.3 kB)\n",
      "Collecting langsmith<0.3,>=0.1.125 (from langchain-community)\n",
      "  Using cached langsmith-0.2.10-py3-none-any.whl.metadata (14 kB)\n",
      "Requirement already satisfied: numpy<2,>=1.22.4 in c:\\users\\ej312ws\\appdata\\local\\programs\\python\\python310\\lib\\site-packages (from langchain-community) (1.26.4)\n",
      "Collecting pydantic-settings<3.0.0,>=2.4.0 (from langchain-community)\n",
      "  Using cached pydantic_settings-2.7.1-py3-none-any.whl.metadata (3.5 kB)\n",
      "Requirement already satisfied: requests<3,>=2 in c:\\users\\ej312ws\\appdata\\local\\programs\\python\\python310\\lib\\site-packages (from langchain-community) (2.32.3)\n",
      "Requirement already satisfied: tenacity!=8.4.0,<10,>=8.1.0 in c:\\users\\ej312ws\\appdata\\local\\programs\\python\\python310\\lib\\site-packages (from langchain-community) (8.5.0)\n",
      "Requirement already satisfied: packaging in c:\\users\\ej312ws\\appdata\\local\\programs\\python\\python310\\lib\\site-packages (from faiss-cpu) (24.1)\n",
      "Collecting huggingface-hub>=0.23.0 (from langchain-huggingface)\n",
      "  Using cached huggingface_hub-0.27.1-py3-none-any.whl.metadata (13 kB)\n",
      "Collecting sentence-transformers>=2.6.0 (from langchain-huggingface)\n",
      "  Using cached sentence_transformers-3.3.1-py3-none-any.whl.metadata (10 kB)\n",
      "Collecting tokenizers>=0.19.1 (from langchain-huggingface)\n",
      "  Using cached tokenizers-0.21.0-cp39-abi3-win_amd64.whl.metadata (6.9 kB)\n",
      "Collecting transformers>=4.39.0 (from langchain-huggingface)\n",
      "  Using cached transformers-4.47.1-py3-none-any.whl.metadata (44 kB)\n",
      "Collecting regex>=2022.1.18 (from tiktoken)\n",
      "  Using cached regex-2024.11.6-cp310-cp310-win_amd64.whl.metadata (41 kB)\n",
      "Collecting ollama<1,>=0.4.4 (from langchain-ollama)\n",
      "  Using cached ollama-0.4.5-py3-none-any.whl.metadata (4.7 kB)\n",
      "Collecting aiohappyeyeballs>=2.3.0 (from aiohttp<4.0.0,>=3.8.3->langchain-community)\n",
      "  Using cached aiohappyeyeballs-2.4.4-py3-none-any.whl.metadata (6.1 kB)\n",
      "Collecting aiosignal>=1.1.2 (from aiohttp<4.0.0,>=3.8.3->langchain-community)\n",
      "  Using cached aiosignal-1.3.2-py2.py3-none-any.whl.metadata (3.8 kB)\n",
      "Collecting async-timeout<6.0,>=4.0 (from aiohttp<4.0.0,>=3.8.3->langchain-community)\n",
      "  Downloading async_timeout-5.0.1-py3-none-any.whl.metadata (5.1 kB)\n",
      "Requirement already satisfied: attrs>=17.3.0 in c:\\users\\ej312ws\\appdata\\local\\programs\\python\\python310\\lib\\site-packages (from aiohttp<4.0.0,>=3.8.3->langchain-community) (24.2.0)\n",
      "Collecting frozenlist>=1.1.1 (from aiohttp<4.0.0,>=3.8.3->langchain-community)\n",
      "  Using cached frozenlist-1.5.0-cp310-cp310-win_amd64.whl.metadata (14 kB)\n",
      "Collecting multidict<7.0,>=4.5 (from aiohttp<4.0.0,>=3.8.3->langchain-community)\n",
      "  Using cached multidict-6.1.0-cp310-cp310-win_amd64.whl.metadata (5.1 kB)\n",
      "Collecting propcache>=0.2.0 (from aiohttp<4.0.0,>=3.8.3->langchain-community)\n",
      "  Using cached propcache-0.2.1-cp310-cp310-win_amd64.whl.metadata (9.5 kB)\n",
      "Collecting yarl<2.0,>=1.17.0 (from aiohttp<4.0.0,>=3.8.3->langchain-community)\n",
      "  Using cached yarl-1.18.3-cp310-cp310-win_amd64.whl.metadata (71 kB)\n",
      "Collecting marshmallow<4.0.0,>=3.18.0 (from dataclasses-json<0.7,>=0.5.7->langchain-community)\n",
      "  Using cached marshmallow-3.24.0-py3-none-any.whl.metadata (7.1 kB)\n",
      "Collecting typing-inspect<1,>=0.4.0 (from dataclasses-json<0.7,>=0.5.7->langchain-community)\n",
      "  Using cached typing_inspect-0.9.0-py3-none-any.whl.metadata (1.5 kB)\n",
      "Collecting filelock (from huggingface-hub>=0.23.0->langchain-huggingface)\n",
      "  Using cached filelock-3.16.1-py3-none-any.whl.metadata (2.9 kB)\n",
      "Collecting fsspec>=2023.5.0 (from huggingface-hub>=0.23.0->langchain-huggingface)\n",
      "  Using cached fsspec-2024.12.0-py3-none-any.whl.metadata (11 kB)\n",
      "Requirement already satisfied: tqdm>=4.42.1 in c:\\users\\ej312ws\\appdata\\local\\programs\\python\\python310\\lib\\site-packages (from huggingface-hub>=0.23.0->langchain-huggingface) (4.66.5)\n",
      "Requirement already satisfied: typing-extensions>=3.7.4.3 in c:\\users\\ej312ws\\appdata\\local\\programs\\python\\python310\\lib\\site-packages (from huggingface-hub>=0.23.0->langchain-huggingface) (4.12.2)\n",
      "Collecting async-timeout<6.0,>=4.0 (from aiohttp<4.0.0,>=3.8.3->langchain-community)\n",
      "  Using cached async_timeout-4.0.3-py3-none-any.whl.metadata (4.2 kB)\n",
      "Collecting langchain-text-splitters<0.4.0,>=0.3.3 (from langchain<0.4.0,>=0.3.14->langchain-community)\n",
      "  Using cached langchain_text_splitters-0.3.4-py3-none-any.whl.metadata (2.3 kB)\n",
      "Collecting pydantic<3.0.0,>=2.7.4 (from langchain<0.4.0,>=0.3.14->langchain-community)\n",
      "  Using cached pydantic-2.10.4-py3-none-any.whl.metadata (29 kB)\n",
      "Collecting jsonpatch<2.0,>=1.33 (from langchain-core<0.4.0,>=0.3.29->langchain-community)\n",
      "  Using cached jsonpatch-1.33-py2.py3-none-any.whl.metadata (3.0 kB)\n",
      "Collecting httpx<1,>=0.23.0 (from langsmith<0.3,>=0.1.125->langchain-community)\n",
      "  Using cached httpx-0.28.1-py3-none-any.whl.metadata (7.1 kB)\n",
      "Collecting orjson<4.0.0,>=3.9.14 (from langsmith<0.3,>=0.1.125->langchain-community)\n",
      "  Downloading orjson-3.10.13-cp310-cp310-win_amd64.whl.metadata (42 kB)\n",
      "Collecting requests-toolbelt<2.0.0,>=1.0.0 (from langsmith<0.3,>=0.1.125->langchain-community)\n",
      "  Using cached requests_toolbelt-1.0.0-py2.py3-none-any.whl.metadata (14 kB)\n",
      "Collecting httpx<1,>=0.23.0 (from langsmith<0.3,>=0.1.125->langchain-community)\n",
      "  Using cached httpx-0.27.2-py3-none-any.whl.metadata (7.1 kB)\n",
      "Requirement already satisfied: charset-normalizer<4,>=2 in c:\\users\\ej312ws\\appdata\\local\\programs\\python\\python310\\lib\\site-packages (from requests<3,>=2->langchain-community) (3.3.2)\n",
      "Requirement already satisfied: idna<4,>=2.5 in c:\\users\\ej312ws\\appdata\\local\\programs\\python\\python310\\lib\\site-packages (from requests<3,>=2->langchain-community) (3.7)\n",
      "Requirement already satisfied: urllib3<3,>=1.21.1 in c:\\users\\ej312ws\\appdata\\local\\programs\\python\\python310\\lib\\site-packages (from requests<3,>=2->langchain-community) (2.2.2)\n",
      "Requirement already satisfied: certifi>=2017.4.17 in c:\\users\\ej312ws\\appdata\\local\\programs\\python\\python310\\lib\\site-packages (from requests<3,>=2->langchain-community) (2024.7.4)\n",
      "Collecting torch>=1.11.0 (from sentence-transformers>=2.6.0->langchain-huggingface)\n",
      "  Using cached torch-2.5.1-cp310-cp310-win_amd64.whl.metadata (28 kB)\n",
      "Requirement already satisfied: scikit-learn in c:\\users\\ej312ws\\appdata\\local\\programs\\python\\python310\\lib\\site-packages (from sentence-transformers>=2.6.0->langchain-huggingface) (1.5.1)\n",
      "Requirement already satisfied: scipy in c:\\users\\ej312ws\\appdata\\local\\programs\\python\\python310\\lib\\site-packages (from sentence-transformers>=2.6.0->langchain-huggingface) (1.14.0)\n",
      "Requirement already satisfied: Pillow in c:\\users\\ej312ws\\appdata\\local\\programs\\python\\python310\\lib\\site-packages (from sentence-transformers>=2.6.0->langchain-huggingface) (10.4.0)\n",
      "Collecting greenlet!=0.4.17 (from SQLAlchemy<3,>=1.4->langchain-community)\n",
      "  Using cached greenlet-3.1.1-cp310-cp310-win_amd64.whl.metadata (3.9 kB)\n",
      "Collecting safetensors>=0.4.1 (from transformers>=4.39.0->langchain-huggingface)\n",
      "  Using cached safetensors-0.5.0-cp38-abi3-win_amd64.whl.metadata (3.9 kB)\n",
      "Collecting anyio (from httpx<1,>=0.23.0->langsmith<0.3,>=0.1.125->langchain-community)\n",
      "  Using cached anyio-4.8.0-py3-none-any.whl.metadata (4.6 kB)\n",
      "Collecting httpcore==1.* (from httpx<1,>=0.23.0->langsmith<0.3,>=0.1.125->langchain-community)\n",
      "  Using cached httpcore-1.0.7-py3-none-any.whl.metadata (21 kB)\n",
      "Collecting sniffio (from httpx<1,>=0.23.0->langsmith<0.3,>=0.1.125->langchain-community)\n",
      "  Using cached sniffio-1.3.1-py3-none-any.whl.metadata (3.9 kB)\n",
      "Collecting h11<0.15,>=0.13 (from httpcore==1.*->httpx<1,>=0.23.0->langsmith<0.3,>=0.1.125->langchain-community)\n",
      "  Using cached h11-0.14.0-py3-none-any.whl.metadata (8.2 kB)\n",
      "Collecting jsonpointer>=1.9 (from jsonpatch<2.0,>=1.33->langchain-core<0.4.0,>=0.3.29->langchain-community)\n",
      "  Using cached jsonpointer-3.0.0-py2.py3-none-any.whl.metadata (2.3 kB)\n",
      "Collecting annotated-types>=0.6.0 (from pydantic<3.0.0,>=2.7.4->langchain<0.4.0,>=0.3.14->langchain-community)\n",
      "  Using cached annotated_types-0.7.0-py3-none-any.whl.metadata (15 kB)\n",
      "Collecting pydantic-core==2.27.2 (from pydantic<3.0.0,>=2.7.4->langchain<0.4.0,>=0.3.14->langchain-community)\n",
      "  Using cached pydantic_core-2.27.2-cp310-cp310-win_amd64.whl.metadata (6.7 kB)\n",
      "Collecting networkx (from torch>=1.11.0->sentence-transformers>=2.6.0->langchain-huggingface)\n",
      "  Using cached networkx-3.4.2-py3-none-any.whl.metadata (6.3 kB)\n",
      "Requirement already satisfied: jinja2 in c:\\users\\ej312ws\\appdata\\local\\programs\\python\\python310\\lib\\site-packages (from torch>=1.11.0->sentence-transformers>=2.6.0->langchain-huggingface) (3.1.4)\n",
      "Collecting sympy==1.13.1 (from torch>=1.11.0->sentence-transformers>=2.6.0->langchain-huggingface)\n",
      "  Using cached sympy-1.13.1-py3-none-any.whl.metadata (12 kB)\n",
      "Collecting mpmath<1.4,>=1.1.0 (from sympy==1.13.1->torch>=1.11.0->sentence-transformers>=2.6.0->langchain-huggingface)\n",
      "  Using cached mpmath-1.3.0-py3-none-any.whl.metadata (8.6 kB)\n",
      "Requirement already satisfied: colorama in c:\\users\\ej312ws\\appdata\\local\\programs\\python\\python310\\lib\\site-packages (from tqdm>=4.42.1->huggingface-hub>=0.23.0->langchain-huggingface) (0.4.6)\n",
      "Collecting mypy-extensions>=0.3.0 (from typing-inspect<1,>=0.4.0->dataclasses-json<0.7,>=0.5.7->langchain-community)\n",
      "  Using cached mypy_extensions-1.0.0-py3-none-any.whl.metadata (1.1 kB)\n",
      "Requirement already satisfied: joblib>=1.2.0 in c:\\users\\ej312ws\\appdata\\local\\programs\\python\\python310\\lib\\site-packages (from scikit-learn->sentence-transformers>=2.6.0->langchain-huggingface) (1.4.2)\n",
      "Requirement already satisfied: threadpoolctl>=3.1.0 in c:\\users\\ej312ws\\appdata\\local\\programs\\python\\python310\\lib\\site-packages (from scikit-learn->sentence-transformers>=2.6.0->langchain-huggingface) (3.5.0)\n",
      "Requirement already satisfied: exceptiongroup>=1.0.2 in c:\\users\\ej312ws\\appdata\\local\\programs\\python\\python310\\lib\\site-packages (from anyio->httpx<1,>=0.23.0->langsmith<0.3,>=0.1.125->langchain-community) (1.2.2)\n",
      "Requirement already satisfied: MarkupSafe>=2.0 in c:\\users\\ej312ws\\appdata\\local\\programs\\python\\python310\\lib\\site-packages (from jinja2->torch>=1.11.0->sentence-transformers>=2.6.0->langchain-huggingface) (2.1.5)\n",
      "Using cached langchain_community-0.3.14-py3-none-any.whl (2.5 MB)\n",
      "Downloading faiss_cpu-1.9.0.post1-cp310-cp310-win_amd64.whl (13.8 MB)\n",
      "   ---------------------------------------- 0.0/13.8 MB ? eta -:--:--\n",
      "   - -------------------------------------- 0.5/13.8 MB 5.6 MB/s eta 0:00:03\n",
      "   ------ --------------------------------- 2.4/13.8 MB 7.4 MB/s eta 0:00:02\n",
      "   ------------ --------------------------- 4.2/13.8 MB 7.9 MB/s eta 0:00:02\n",
      "   ----------------- ---------------------- 6.0/13.8 MB 8.0 MB/s eta 0:00:01\n",
      "   --------------------- ------------------ 7.6/13.8 MB 8.1 MB/s eta 0:00:01\n",
      "   -------------------------- ------------- 9.2/13.8 MB 7.8 MB/s eta 0:00:01\n",
      "   ------------------------------- -------- 11.0/13.8 MB 7.9 MB/s eta 0:00:01\n",
      "   ------------------------------------ --- 12.6/13.8 MB 7.8 MB/s eta 0:00:01\n",
      "   ---------------------------------------- 13.8/13.8 MB 7.7 MB/s eta 0:00:00\n",
      "Using cached langchain_huggingface-0.1.2-py3-none-any.whl (21 kB)\n",
      "Using cached pymupdf-1.25.1-cp39-abi3-win_amd64.whl (16.6 MB)\n",
      "Using cached tiktoken-0.8.0-cp310-cp310-win_amd64.whl (884 kB)\n",
      "Using cached langchain_ollama-0.2.2-py3-none-any.whl (18 kB)\n",
      "Using cached python_dotenv-1.0.1-py3-none-any.whl (19 kB)\n",
      "Using cached aiohttp-3.11.11-cp310-cp310-win_amd64.whl (442 kB)\n",
      "Using cached dataclasses_json-0.6.7-py3-none-any.whl (28 kB)\n",
      "Using cached httpx_sse-0.4.0-py3-none-any.whl (7.8 kB)\n",
      "Using cached huggingface_hub-0.27.1-py3-none-any.whl (450 kB)\n",
      "Using cached langchain-0.3.14-py3-none-any.whl (1.0 MB)\n",
      "Using cached langchain_core-0.3.29-py3-none-any.whl (411 kB)\n",
      "Using cached langsmith-0.2.10-py3-none-any.whl (326 kB)\n",
      "Using cached ollama-0.4.5-py3-none-any.whl (13 kB)\n",
      "Using cached pydantic_settings-2.7.1-py3-none-any.whl (29 kB)\n",
      "Using cached PyYAML-6.0.2-cp310-cp310-win_amd64.whl (161 kB)\n",
      "Using cached regex-2024.11.6-cp310-cp310-win_amd64.whl (274 kB)\n",
      "Using cached sentence_transformers-3.3.1-py3-none-any.whl (268 kB)\n",
      "Using cached SQLAlchemy-2.0.36-cp310-cp310-win_amd64.whl (2.1 MB)\n",
      "Using cached tokenizers-0.21.0-cp39-abi3-win_amd64.whl (2.4 MB)\n",
      "Using cached transformers-4.47.1-py3-none-any.whl (10.1 MB)\n",
      "Using cached aiohappyeyeballs-2.4.4-py3-none-any.whl (14 kB)\n",
      "Using cached aiosignal-1.3.2-py2.py3-none-any.whl (7.6 kB)\n",
      "Using cached async_timeout-4.0.3-py3-none-any.whl (5.7 kB)\n",
      "Using cached frozenlist-1.5.0-cp310-cp310-win_amd64.whl (51 kB)\n",
      "Using cached fsspec-2024.12.0-py3-none-any.whl (183 kB)\n",
      "Using cached greenlet-3.1.1-cp310-cp310-win_amd64.whl (298 kB)\n",
      "Using cached httpx-0.27.2-py3-none-any.whl (76 kB)\n",
      "Using cached httpcore-1.0.7-py3-none-any.whl (78 kB)\n",
      "Using cached jsonpatch-1.33-py2.py3-none-any.whl (12 kB)\n",
      "Using cached langchain_text_splitters-0.3.4-py3-none-any.whl (27 kB)\n",
      "Using cached marshmallow-3.24.0-py3-none-any.whl (49 kB)\n",
      "Using cached multidict-6.1.0-cp310-cp310-win_amd64.whl (28 kB)\n",
      "Downloading orjson-3.10.13-cp310-cp310-win_amd64.whl (135 kB)\n",
      "Using cached propcache-0.2.1-cp310-cp310-win_amd64.whl (44 kB)\n",
      "Using cached pydantic-2.10.4-py3-none-any.whl (431 kB)\n",
      "Using cached pydantic_core-2.27.2-cp310-cp310-win_amd64.whl (2.0 MB)\n",
      "Using cached requests_toolbelt-1.0.0-py2.py3-none-any.whl (54 kB)\n",
      "Using cached safetensors-0.5.0-cp38-abi3-win_amd64.whl (303 kB)\n",
      "Using cached torch-2.5.1-cp310-cp310-win_amd64.whl (203.1 MB)\n",
      "Using cached sympy-1.13.1-py3-none-any.whl (6.2 MB)\n",
      "Using cached typing_inspect-0.9.0-py3-none-any.whl (8.8 kB)\n",
      "Using cached yarl-1.18.3-cp310-cp310-win_amd64.whl (90 kB)\n",
      "Using cached filelock-3.16.1-py3-none-any.whl (16 kB)\n",
      "Using cached annotated_types-0.7.0-py3-none-any.whl (13 kB)\n",
      "Using cached jsonpointer-3.0.0-py2.py3-none-any.whl (7.6 kB)\n",
      "Using cached mypy_extensions-1.0.0-py3-none-any.whl (4.7 kB)\n",
      "Using cached anyio-4.8.0-py3-none-any.whl (96 kB)\n",
      "Using cached sniffio-1.3.1-py3-none-any.whl (10 kB)\n",
      "Using cached networkx-3.4.2-py3-none-any.whl (1.7 MB)\n",
      "Using cached h11-0.14.0-py3-none-any.whl (58 kB)\n",
      "Using cached mpmath-1.3.0-py3-none-any.whl (536 kB)\n",
      "Installing collected packages: mpmath, sympy, sniffio, safetensors, regex, PyYAML, python-dotenv, pymupdf, pydantic-core, propcache, orjson, networkx, mypy-extensions, multidict, marshmallow, jsonpointer, httpx-sse, h11, greenlet, fsspec, frozenlist, filelock, faiss-cpu, async-timeout, annotated-types, aiohappyeyeballs, yarl, typing-inspect, torch, tiktoken, SQLAlchemy, requests-toolbelt, pydantic, jsonpatch, huggingface-hub, httpcore, anyio, aiosignal, tokenizers, pydantic-settings, httpx, dataclasses-json, aiohttp, transformers, ollama, langsmith, sentence-transformers, langchain-core, langchain-text-splitters, langchain-ollama, langchain-huggingface, langchain, langchain-community\n",
      "Successfully installed PyYAML-6.0.2 SQLAlchemy-2.0.36 aiohappyeyeballs-2.4.4 aiohttp-3.11.11 aiosignal-1.3.2 annotated-types-0.7.0 anyio-4.8.0 async-timeout-4.0.3 dataclasses-json-0.6.7 faiss-cpu-1.9.0.post1 filelock-3.16.1 frozenlist-1.5.0 fsspec-2024.12.0 greenlet-3.1.1 h11-0.14.0 httpcore-1.0.7 httpx-0.27.2 httpx-sse-0.4.0 huggingface-hub-0.27.1 jsonpatch-1.33 jsonpointer-3.0.0 langchain-0.3.14 langchain-community-0.3.14 langchain-core-0.3.29 langchain-huggingface-0.1.2 langchain-ollama-0.2.2 langchain-text-splitters-0.3.4 langsmith-0.2.10 marshmallow-3.24.0 mpmath-1.3.0 multidict-6.1.0 mypy-extensions-1.0.0 networkx-3.4.2 ollama-0.4.5 orjson-3.10.13 propcache-0.2.1 pydantic-2.10.4 pydantic-core-2.27.2 pydantic-settings-2.7.1 pymupdf-1.25.1 python-dotenv-1.0.1 regex-2024.11.6 requests-toolbelt-1.0.0 safetensors-0.5.0 sentence-transformers-3.3.1 sniffio-1.3.1 sympy-1.13.1 tiktoken-0.8.0 tokenizers-0.21.0 torch-2.5.1 transformers-4.47.1 typing-inspect-0.9.0 yarl-1.18.3\n",
      "\n"
     ]
    }
   ],
   "source": [
    "pip install -U langchain-community faiss-cpu langchain-huggingface pymupdf tiktoken langchain-ollama python-dotenv"
   ]
  },
  {
   "cell_type": "code",
   "execution_count": 4,
   "metadata": {},
   "outputs": [
    {
     "data": {
      "text/plain": [
       "True"
      ]
     },
     "execution_count": 4,
     "metadata": {},
     "output_type": "execute_result"
    }
   ],
   "source": [
    "import os\n",
    "import warnings\n",
    "from dotenv import load_dotenv\n",
    "\n",
    "os.environ['KMP_DUPLICATE_LIB_OK'] = 'True'\n",
    "warnings.filterwarnings(\"ignore\")\n",
    "\n",
    "load_dotenv()"
   ]
  },
  {
   "cell_type": "code",
   "execution_count": 5,
   "metadata": {},
   "outputs": [
    {
     "data": {
      "text/plain": [
       "'chat_pdf'"
      ]
     },
     "execution_count": 5,
     "metadata": {},
     "output_type": "execute_result"
    }
   ],
   "source": [
    "os.environ['LANGCHAIN_PROJECT']"
   ]
  },
  {
   "cell_type": "code",
   "execution_count": 8,
   "metadata": {},
   "outputs": [],
   "source": [
    "from langchain_community.document_loaders import PyMuPDFLoader\n",
    "\n",
    "loader = PyMuPDFLoader(r\"data\\1. Analysis of Actual Fitness Supplement.pdf\")\n",
    "\n",
    "docs = loader.load()"
   ]
  },
  {
   "cell_type": "code",
   "execution_count": 10,
   "metadata": {},
   "outputs": [],
   "source": [
    "doc=docs[0]"
   ]
  },
  {
   "cell_type": "code",
   "execution_count": 21,
   "metadata": {},
   "outputs": [
    {
     "name": "stdout",
     "output_type": "stream",
     "text": [
      "Citation: Espeño, P.R.; Ong, A.K.S.;\n",
      "German, J.D.; Gumasing, M.J.J.; Casas,\n",
      "E.S. Analysis of Actual Fitness\n",
      "Supplement Consumption among\n",
      "Health and Fitness Enthusiasts. Foods\n",
      "2024, 13, 1424. https://doi.org/\n",
      "10.3390/foods13091424\n",
      "Academic Editors: Ilija Djekic\n",
      "and Nada Smigic\n",
      "Received: 30 March 2024\n",
      "Revised: 15 April 2024\n",
      "Accepted: 18 April 2024\n",
      "Published: 6 May 2024\n",
      "Copyright: © 2024 by the authors.\n",
      "Licensee MDPI, Basel, Switzerland.\n",
      "This article is an open access article\n",
      "distributed\n",
      "under\n",
      "the\n",
      "terms\n",
      "and\n",
      "conditions of the Creative Commons\n",
      "Attribution (CC BY) license (https://\n",
      "creativecommons.org/licenses/by/\n",
      "4.0/).\n",
      "foods\n",
      "Article\n",
      "Analysis of Actual Fitness Supplement Consumption among\n",
      "Health and Fitness Enthusiasts\n",
      "Paolo Renzo Espeño 1, Ardvin Kester S. Ong 1,2,*\n",
      ", Josephine D. German 1\n",
      ", Ma. Janice J. Gumasing 3\n",
      "and Ethan S. Casas 1\n",
      "1\n",
      "School of Industrial Engineering and Engineering Management, Mapúa University, 658 Muralla St.,\n",
      "Intramuros, Manila 1002, Philippines\n",
      "2\n",
      "E.T. Yuchengo School of Business, Mapúa University, 1191 Pablo Ocampo Sr. Ext., Makati 1204, Philippines\n",
      "3\n",
      "Department of Industrial and Systems Engineering, Gokongwei College of Engineering,\n",
      "De La Salle University, 2401 Taft Ave., Manila 1007, Philippines\n",
      "*\n",
      "Correspondence: aksong@mapua.edu.ph; Tel.: +63-(2)8247-5000 (ext. 6202)\n",
      "Abstract: With the rising popularity of fitness supplements, understanding the factors driving their\n",
      "consumption behaviors is crucial. This study investigated the actual consumption of fitness supple-\n",
      "ments utilizing the Theory of Planned Behavior (TPB), Health Belief Model (HBM), and the Theory\n",
      "of Effort Minimization in Physical Activity (TEMPA) frameworks. The TPB provided insights into\n",
      "how attitudes, subjective norms, and perceived behavioral control influence individuals’ intentions\n",
      "to consume fitness supplements. Additionally, the HBM sheds light on perceived effectiveness,\n",
      "benefits, barriers, and health motivation related to supplement consumption. Integrating the TEMPA\n",
      "framework further investigated the role of effort minimization in physical activity contexts. Through\n",
      "an online questionnaire, data were collected from a sample of 250 fitness supplement-consuming\n",
      "respondents. SEM analysis revealed significant associations between behavioral intentions and\n",
      "attitudes, perceived behavioral control, health motivation, and controlled precursors. However, it\n",
      "was seen that subjective norms, perceived effectiveness, perceived benefits, and automatic precursors\n",
      "were deemed insignificant. The findings contribute to a comprehensive understanding of the factors\n",
      "shaping actual consumption behaviors, offering valuable implications for marketers, health profes-\n",
      "sionals, and policymakers seeking to promote informed and responsible supplement use among\n",
      "health and fitness enthusiasts.\n",
      "Keywords: fitness supplements; health belief model; theory of effort of minimization; theory of\n",
      "planned behavior; structural equation modelling\n",
      "1. Introduction\n",
      "Supplementary drinks or fitness supplements are commonly used to enhance an\n",
      "individual’s performance in various sports and health settings, catering to both competitive\n",
      "and non-competitive athletes [1]. One widely known supplement for athletes and fitness\n",
      "enthusiasts is protein supplements like protein shakes. Others may be whey protein,\n",
      "caffeine, and creatine, to name a few. These supplements play a crucial role in helping\n",
      "individuals increase muscle mass, recover faster, and enhance their overall performance [2].\n",
      "Whey protein stands out as a top-quality protein source, containing more essential amino\n",
      "acids than traditional protein sources. Its numerous benefits have made it a popular choice\n",
      "for snacks and drinks among consumers [3]. Another widely embraced supplement is\n",
      "caffeine, which is found in many sports and food supplements. Caffeine reduces perceived\n",
      "effort, minimizes fatigue and pain, and proves to be effective for endurance and high-\n",
      "intensity activities, which is the choice of consumers [4].\n",
      "Creatine monohydrate is another well-known supplement used to gain muscle mass\n",
      "and support performance and recovery. It is known not to increase fat mass and remains\n",
      "effective even when taken in recommended doses [5]. Despite its popularity in the fitness\n",
      "Foods 2024, 13, 1424. https://doi.org/10.3390/foods13091424\n",
      "https://www.mdpi.com/journal/foods\n",
      "\n"
     ]
    }
   ],
   "source": [
    "print(doc.page_content)"
   ]
  },
  {
   "cell_type": "code",
   "execution_count": 12,
   "metadata": {},
   "outputs": [],
   "source": [
    "import os\n",
    "\n",
    "pdfs = []\n",
    "for root, dirs, files in os.walk('data'):\n",
    "    # print(root, dirs, files)\n",
    "    for file in files:\n",
    "        if file.endswith('.pdf'):\n",
    "            pdfs.append(os.path.join(root, file))"
   ]
  },
  {
   "cell_type": "code",
   "execution_count": 22,
   "metadata": {},
   "outputs": [
    {
     "data": {
      "text/plain": [
       "['data\\\\1. Analysis of Actual Fitness Supplement.pdf',\n",
       " 'data\\\\2. High Prevalence of Supplement Intake.pdf']"
      ]
     },
     "execution_count": 22,
     "metadata": {},
     "output_type": "execute_result"
    }
   ],
   "source": [
    "pdfs"
   ]
  },
  {
   "cell_type": "code",
   "execution_count": 13,
   "metadata": {},
   "outputs": [],
   "source": [
    "docs = []\n",
    "for pdf in pdfs:\n",
    "    loader = PyMuPDFLoader(pdf)\n",
    "    pages = loader.load()\n",
    "\n",
    "    docs.extend(pages)"
   ]
  },
  {
   "cell_type": "code",
   "execution_count": 23,
   "metadata": {},
   "outputs": [
    {
     "data": {
      "text/plain": [
       "[Document(metadata={'source': 'data\\\\1. Analysis of Actual Fitness Supplement.pdf', 'file_path': 'data\\\\1. Analysis of Actual Fitness Supplement.pdf', 'page': 0, 'total_pages': 15, 'format': 'PDF 1.7', 'title': '', 'author': '', 'subject': '', 'keywords': '', 'creator': '', 'producer': 'iLovePDF', 'creationDate': '', 'modDate': 'D:20241021113850Z', 'trapped': ''}, page_content='Citation: Espeño, P.R.; Ong, A.K.S.;\\nGerman, J.D.; Gumasing, M.J.J.; Casas,\\nE.S. Analysis of Actual Fitness\\nSupplement Consumption among\\nHealth and Fitness Enthusiasts. Foods\\n2024, 13, 1424. https://doi.org/\\n10.3390/foods13091424\\nAcademic Editors: Ilija Djekic\\nand Nada Smigic\\nReceived: 30 March 2024\\nRevised: 15 April 2024\\nAccepted: 18 April 2024\\nPublished: 6 May 2024\\nCopyright: © 2024 by the authors.\\nLicensee MDPI, Basel, Switzerland.\\nThis article is an open access article\\ndistributed\\nunder\\nthe\\nterms\\nand\\nconditions of the Creative Commons\\nAttribution (CC BY) license (https://\\ncreativecommons.org/licenses/by/\\n4.0/).\\nfoods\\nArticle\\nAnalysis of Actual Fitness Supplement Consumption among\\nHealth and Fitness Enthusiasts\\nPaolo Renzo Espeño 1, Ardvin Kester S. Ong 1,2,*\\n, Josephine D. German 1\\n, Ma. Janice J. Gumasing 3\\nand Ethan S. Casas 1\\n1\\nSchool of Industrial Engineering and Engineering Management, Mapúa University, 658 Muralla St.,\\nIntramuros, Manila 1002, Philippines\\n2\\nE.T. Yuchengo School of Business, Mapúa University, 1191 Pablo Ocampo Sr. Ext., Makati 1204, Philippines\\n3\\nDepartment of Industrial and Systems Engineering, Gokongwei College of Engineering,\\nDe La Salle University, 2401 Taft Ave., Manila 1007, Philippines\\n*\\nCorrespondence: aksong@mapua.edu.ph; Tel.: +63-(2)8247-5000 (ext. 6202)\\nAbstract: With the rising popularity of fitness supplements, understanding the factors driving their\\nconsumption behaviors is crucial. This study investigated the actual consumption of fitness supple-\\nments utilizing the Theory of Planned Behavior (TPB), Health Belief Model (HBM), and the Theory\\nof Effort Minimization in Physical Activity (TEMPA) frameworks. The TPB provided insights into\\nhow attitudes, subjective norms, and perceived behavioral control influence individuals’ intentions\\nto consume fitness supplements. Additionally, the HBM sheds light on perceived effectiveness,\\nbenefits, barriers, and health motivation related to supplement consumption. Integrating the TEMPA\\nframework further investigated the role of effort minimization in physical activity contexts. Through\\nan online questionnaire, data were collected from a sample of 250 fitness supplement-consuming\\nrespondents. SEM analysis revealed significant associations between behavioral intentions and\\nattitudes, perceived behavioral control, health motivation, and controlled precursors. However, it\\nwas seen that subjective norms, perceived effectiveness, perceived benefits, and automatic precursors\\nwere deemed insignificant. The findings contribute to a comprehensive understanding of the factors\\nshaping actual consumption behaviors, offering valuable implications for marketers, health profes-\\nsionals, and policymakers seeking to promote informed and responsible supplement use among\\nhealth and fitness enthusiasts.\\nKeywords: fitness supplements; health belief model; theory of effort of minimization; theory of\\nplanned behavior; structural equation modelling\\n1. Introduction\\nSupplementary drinks or fitness supplements are commonly used to enhance an\\nindividual’s performance in various sports and health settings, catering to both competitive\\nand non-competitive athletes [1]. One widely known supplement for athletes and fitness\\nenthusiasts is protein supplements like protein shakes. Others may be whey protein,\\ncaffeine, and creatine, to name a few. These supplements play a crucial role in helping\\nindividuals increase muscle mass, recover faster, and enhance their overall performance [2].\\nWhey protein stands out as a top-quality protein source, containing more essential amino\\nacids than traditional protein sources. Its numerous benefits have made it a popular choice\\nfor snacks and drinks among consumers [3]. Another widely embraced supplement is\\ncaffeine, which is found in many sports and food supplements. Caffeine reduces perceived\\neffort, minimizes fatigue and pain, and proves to be effective for endurance and high-\\nintensity activities, which is the choice of consumers [4].\\nCreatine monohydrate is another well-known supplement used to gain muscle mass\\nand support performance and recovery. It is known not to increase fat mass and remains\\neffective even when taken in recommended doses [5]. Despite its popularity in the fitness\\nFoods 2024, 13, 1424. https://doi.org/10.3390/foods13091424\\nhttps://www.mdpi.com/journal/foods\\n'),\n",
       " Document(metadata={'source': 'data\\\\1. Analysis of Actual Fitness Supplement.pdf', 'file_path': 'data\\\\1. Analysis of Actual Fitness Supplement.pdf', 'page': 1, 'total_pages': 15, 'format': 'PDF 1.7', 'title': '', 'author': '', 'subject': '', 'keywords': '', 'creator': '', 'producer': 'iLovePDF', 'creationDate': '', 'modDate': 'D:20241021113850Z', 'trapped': ''}, page_content='Foods 2024, 13, 1424\\n2 of 21\\nand sports industry, evidence suggests that creatine can benefit not only athletes but also\\nthe elderly and the general population [6]. Branched-chain amino acids (BCAA) also offer\\na plethora of benefits for consumers. As explained by Sanz et al. [7], BCAAs are stored\\ndirectly in muscles and serve as the raw materials needed to build new muscle. This\\ncontributes to the overall process of strengthening muscles and alleviating post-workout\\nsoreness. Consumers often integrate these supplements into their routines with the aim of\\noptimizing the outcomes they wish to achieve and support overall well-being [1].\\nThe sports supplement industry makes for an impressive market share of nearly\\n$12 billion in the health/wellness portfolio and is projected to be worth $24.4 billion\\nby 2025. In a study by Burke [4], which investigated 20 published studies about the\\nprevalence, methods, and reasons for supplement consumption, it is evident from the\\nfindings that supplement consumption is prevalent among athletes and even more so in\\nindividuals competing at higher levels. It can also be confirmed that most gym-goers\\ngenerally use dietary supplements, with a prevalence exceeding 40%, with a prevalence of\\n44% in Portugal and 81% in South Africa [8]. In a set of different studies, the prevalence\\namong gym-goers ranged from 29.4% to 47.5%, and these findings remained consistent. It\\nwas also seen that among 55 Spanish basketball players and English elite track and field\\nathletes, the prevalence was 58% and 86%, respectively [9].\\nWhen investigating the dietary habits of combat sports athletes in the Philippines,\\nthe findings indicated that the overall knowledge of the respondents on nutrition and\\ndietary habits was exceptional. However, the understanding of individuals about the\\nexcess intake of vitamin and mineral supplements was poor [10]. Similarly, Elsahoryi\\net al. [11] assessed the trends on dietary supplements among students and found that\\nsupplements were deemed essential; however, their knowledge of them was concluded to\\nbe insufficient. The findings of these studies implicated a need for educational intervention\\non supplements. Furthermore, the presence of unlicensed and unsafe supplements poses\\na threat to uneducated consumers. The country’s Food and Drug Administration (FDA)\\nissued a strong public caution regarding the use of 11 dietary supplements in 2019. This\\nwas because the products have not undergone the regular evaluation process of the agency,\\nmaking it impossible to ensure the safety and quality of the items [12]. Additionally, the\\navailability of dietary supplements that claimed to help in weight loss has increased in\\ndrugstores and supermarkets. Many of these supplements contain various ingredients,\\ntypically herbs, vitamins, and minerals, caffeine, and laxatives, that when taken collectively,\\nhave unclear effects [13].\\nIndividuals leading luxurious lifestyles tend to exhibit a higher inclination toward\\nthe use of supplements [14], indicating a correlation between lifestyle and the tendency\\nto use supplements. Nagar [15] found attitude to be the most influencing predictor of\\nconsumers’ consumption intention of gym supplements, implying that customers’ attitudes\\ncan be affected by risk and benefits, social influence, and health consciousness. On the\\nother hand, Campbell et al. [16] highlighted perceived behavioral control as not highly\\ninfluenced by attitude and social norms. In another study, additional information on\\nlabels was found to significantly impact consumers’ behavioral intention to use dietary\\nsupplements [17]. The study further explained that consumers often consider using the\\nsupplement if its risks and benefits are well communicated on the label. It was also reported\\nthat customer consumption behavior with regard to fitness supplements is affected by\\ntheir comprehension of the side effects [18]. Moreover, it was indicated that knowledge\\nis a significant variable in consumers’ attitudes, beliefs, and intentions toward the use of\\nsupplements [19]. As knowledge grows, parallel improvement in understanding, belief,\\nand intention to use supplements is present.\\nJairoun et al. [20] suggested a positive perception regarding the use of fitness sup-\\nplements. That is, the consumption of fitness supplements has been perceived to lead to\\ndoping, and users demonstrate stronger intentions and attitudes toward it [21]. These\\nstudies highlighted the gap in proper education regarding supplements that can distort\\nindividuals’ ability to make informed and responsible choices about their consumption,\\n'),\n",
       " Document(metadata={'source': 'data\\\\1. Analysis of Actual Fitness Supplement.pdf', 'file_path': 'data\\\\1. Analysis of Actual Fitness Supplement.pdf', 'page': 2, 'total_pages': 15, 'format': 'PDF 1.7', 'title': '', 'author': '', 'subject': '', 'keywords': '', 'creator': '', 'producer': 'iLovePDF', 'creationDate': '', 'modDate': 'D:20241021113850Z', 'trapped': ''}, page_content='Foods 2024, 13, 1424\\n3 of 21\\npotentially putting their health at risk [22,23]. Moreover, health behavior among consumers\\nwas barely addressed among the studies. It could be posited that scarce to no studies have\\nbeen conducted regarding fitness supplement consumption, especially in the Philippines,\\nwhere gym-goers and fitness enthusiasts are abundant [24]. The emphasis Filipinos place\\non both wellness and aesthetics has fueled a rise in gym participation nationwide. Conse-\\nquently, there has been a notable uptrend in the demand for nutraceuticals, such as protein\\nbars and powders, despite their higher costs [25].\\nThis study aimed to examine factors affecting the actual consumption of fitness supple-\\nments among health and fitness enthusiasts. This study employed a theoretical framework\\nthat combined the Theory of Planned Behavior (TPB), the Health Belief Model (HBM), and\\nthe recently developed Theoretical Framework of Motivation to Pursue Exercise Activities\\n(TEMPA). By integrating these frameworks, this study provided a more holistic under-\\nstanding of the psychological and motivational factors that contribute to the consumption\\nbehavior and intention of fitness supplements. The significance of this study lies in its\\npotential to contribute insights to both academia and the health and fitness industry. Un-\\nderstanding the determinants of supplement consumption can aid in developing targeted\\ninterventions, educational programs, and marketing strategies to promote the responsible\\nand informed use of fitness supplements among enthusiasts, as well as enhancing overall\\nhealth and well-being. Furthermore, the incorporation of the framework represents a novel\\napproach to studying health-related behavior, offering a more nuanced perspective on the\\nintricate interplay of psychological, belief-based, and motivational factors in the context\\nof fitness supplement consumption, which could be applied and extended among other\\nrelated studies.\\n2. Conceptual Analysis and Hypotheses Build-Up\\nFigure 1 presents the conceptual framework of this study, integrating TPB, HBM, and\\nTEMPA. A total of 12 hypotheses were generated along with 12 latent variables. Among the\\ntheories, the TPB is said to be a frequently used behavioral model that aids in investigating\\nshifts in people’s behavior. This model operates on the premise that behavior is intentional,\\nenabling the prediction of actions [26]. On the other hand, the HBM is a well-researched\\nframework for understanding health behavior. It seeks to anticipate behavior related to\\nhealth by examining specific patterns of beliefs [27]. Lastly, several studies have employed\\nTEMPA to align with individuals’ physical efforts. TEMPA is a comprehensive model\\nassessing individuals’ tendency to engage in physical activities, incorporating factors that\\nmay promote their intentions [28].\\nDealing with TPB domains, several studies have justified the effects of behavioral\\nintention on up-taking dietary supplements. In this study, attitude refers to a disposition to\\nreact positively or negatively to a behavior [29]. It is evident in multiple studies that attitude\\nis a variable that has a significant impact on consumer’s behavioral intention. In context,\\nConner et al. [30] investigated the environmental influences that contributed to the decision\\nof women to use dietary supplements. The results showed that stronger intentions to use\\nsupplements were associated with positive attitudes. Liu et al. [31] assessed the effect of the\\nfear of COVID-19 on purchase behavior on dietary supplements. Their findings supported\\nthat attitude, which, alongside other behavioral parameters, significantly affected purchase\\nintention. Moreover, Nagar [15] examined the choice of gym supplements that gym-goers\\nwould purchase. The findings revealed that gym-goers’ intention to buy supplements is\\ninfluenced by their attitude, which is shaped by perceived risk and benefit, social influence,\\nand health consciousness.\\nOn the other hand, subjective norms represent an individual’s perception of others’\\nopinions regarding the execution of a particular behavior, affecting the intentions of Iranian\\nadolescent girls to intake iron and vitamin D supplements [32]. While Housman [33]\\nanalyzed the usage of sports-related supplements of elite female athletes, it was noted that\\ntheir perceptions were influenced greatly by the beliefs held by significant people around\\nthem. Participants expressed that the strongest influences on their behavior came from\\n'),\n",
       " Document(metadata={'source': 'data\\\\1. Analysis of Actual Fitness Supplement.pdf', 'file_path': 'data\\\\1. Analysis of Actual Fitness Supplement.pdf', 'page': 3, 'total_pages': 15, 'format': 'PDF 1.7', 'title': '', 'author': '', 'subject': '', 'keywords': '', 'creator': '', 'producer': 'iLovePDF', 'creationDate': '', 'modDate': 'D:20241021113850Z', 'trapped': ''}, page_content='Foods 2024, 13, 1424\\n4 of 21\\nparents and teammates. The findings of Haubenstricker [34] also stated that subjective\\nnorms and attitude were the most influential drivers in female bodybuilders’ intentions to\\nuse dietary supplements.\\n \\nFigure 1. Conceptual framework combining TEMPA, HBM, and TPB to assess behavioral intention\\nand actual consumption of fitness supplements.\\nIn addition, Lino et al. [35] conducted a study to investigate the attitudes and beliefs\\non dietary supplements among HIV-positive black women. The findings of the study\\nindicated that perceived behavioral control is a significant predictor of intention to use\\ndietary supplements. Similarly, Chen et al. [36] examined the effects of the perceived\\nbenefits of vitamin D supplementation intention. The results presented that the levels of\\nintention to take vitamin D supplements were accurately predicted by factors under the\\nTPB domains; the highest was perceived behavioral control. Pawlak et al. [37] investigated\\nthe drivers of multivitamin consumption in female Caucasian college students. Perceived\\nbehavioral control, along with attitude, were found to have a significant impact on their\\nbehavioral intentions. Thus, in this study hypothesized the following:\\nH1. Attitude has a significant direct effect on behavioral intention.\\nH2. Subjective norms have a significant direct effect on behavioral intention.\\nH3. Perceived behavioral control has a significant direct effect on behavioral intention.\\nFor health and consumers’ belief, Hanna and Hughes [38] investigated the perspective\\nof the public regarding decision-making regarding over-the-counter drugs and their stance\\non the evidence supporting its effectiveness. The results of the study showed that the\\nperceived effectiveness of the medicine influenced their intention to purchase. Similarly,\\nMünstedt et al. [39] investigated the perceived effectiveness of complementary and alterna-\\ntive medicine. The findings indicated that belief in the effectiveness of complementary and\\nalternative medicine were motivating factors. Increasing perceived effectiveness results in\\n'),\n",
       " Document(metadata={'source': 'data\\\\1. Analysis of Actual Fitness Supplement.pdf', 'file_path': 'data\\\\1. Analysis of Actual Fitness Supplement.pdf', 'page': 4, 'total_pages': 15, 'format': 'PDF 1.7', 'title': '', 'author': '', 'subject': '', 'keywords': '', 'creator': '', 'producer': 'iLovePDF', 'creationDate': '', 'modDate': 'D:20241021113850Z', 'trapped': ''}, page_content='Foods 2024, 13, 1424\\n5 of 21\\na positive attitude and stronger purchase intention, underscoring the importance of the\\nfactor in consumer behavior [40]. Hence, the following was hypothesized:\\nH4. Perceived effectiveness has a significant direct effect on behavioral intention.\\nMotivation for health involves an individual’s readiness to modify their behavior\\nfor the sake of enhancing their well-being [41]. In the study by Ataei et al. [42], it was\\nexplained that a significant influence of health motivation, among other factors, on farmers’\\nintentions to adopt green and safer pesticides was seen after they were aware of the benefits\\nof utilizing it. This signified that attitude toward health and the prevention of diseases is\\none of the main drivers to utilize the greener alternatives. Moreover, Sirico [43] observed\\nthat Italian students often consumed food supplements with a focus on overall well-being.\\nThey underscored that the respondents’ pursuit of maintaining good health is a priority.\\nLikewise, Kovács [44] found that leisure-time athletes primarily took supplements as a\\nproactive measure to maintain their health. These findings collectively highlighted the\\ntrend of individuals engaging in behaviors aimed at improving their health. Therefore, the\\nfollowing could be hypothesized:\\nH5. Health motivation has a significant direct effect on behavioral intention.\\nYazdanpanah et al. [45] found that the key factor influencing the intention to consume\\norganic food among Iranian young adults is the perceived health benefit. This suggests\\nthat individuals are inclined to choose organic foods due to their perceived health benefits\\nfor both themselves and the environment, thereby increasing the likelihood of choosing\\norganic options. In a similar vein, Saghafi-Asi [46] identified perceived benefits as a robust\\npredictor of weight management behavior, and Shitu [47] reported a positive correlation\\nbetween perceived benefits and preventive behavior against COVID-19. Thus, this study\\nhypothesized the following:\\nH6. Perceived benefit has a significant direct effect on behavioral intention.\\nPerceived barriers, on the other hand, are the beliefs that carrying out a behavior is\\nrestricted due to psychosocial, physical, or financial factors. When assessing the predictors\\nof the intention to receive the COVID-19 vaccine, low perceived barriers were an important\\npredictor of a definite intention to take the vaccine [48]. Bhandari [49] found that perceived\\nbarriers negatively affected the safety behaviors of farmers to use safer pesticides and\\nadhere to safety behaviors; the findings indicated that educational programs and training\\nwere advised to mitigate the effect of these perceived barriers. Similarly, Pinho et al. [50]\\nfound that perceived barriers also had a significant effect on healthy eating. This suggests\\nthat individuals’ decision to carry out behaviors that positively affect health are significantly\\naffected by perceived barriers. To which, this study hypothesized the following:\\nH7. Perceived barriers have a significant direct effect on behavioral intention.\\nSelf-efficacy is one’s belief in being able to succeed in any task that they are given.\\nThis trait can be general or specific, allowing individuals to have a range of self-efficacy\\nabout themselves [51]. Upon investigating the relationship between dietary supplements\\nand the general self-efficacy levels of athletes, the findings showed that athletes with\\nlower self-efficacy tend to consume more supplements [52]. Broelz et al. [53] found that\\ngiving athletes a supplement with high salience caused them to work harder than products\\nwith low salience, underscoring the psychological benefit of supplements. Another study\\nfocused on ergogenic supplements’ effects on the performance of cycling athletes; they\\nhad a positive effect on the speed and endurance of the cyclists [54]. Similarly, López-\\nTorres et al. [55] discovered that the consumption of ergogenic supplements aided in\\nthe performance of female athletes and enhanced their efficacy to reach specific physical\\n'),\n",
       " Document(metadata={'source': 'data\\\\1. Analysis of Actual Fitness Supplement.pdf', 'file_path': 'data\\\\1. Analysis of Actual Fitness Supplement.pdf', 'page': 5, 'total_pages': 15, 'format': 'PDF 1.7', 'title': '', 'author': '', 'subject': '', 'keywords': '', 'creator': '', 'producer': 'iLovePDF', 'creationDate': '', 'modDate': 'D:20241021113850Z', 'trapped': ''}, page_content='Foods 2024, 13, 1424\\n6 of 21\\nneeds and goals. In addition, Gacek [56] investigated the determinants of nutritional\\nchoices of Polish handball players; it was found that self-efficacy and the consumption of\\nvegetables are positively correlated, thus indicating their belief in achieving specific goals.\\nEncompassing those associated with both health and sports, it underscores the importance\\nof a rational nutritional model. Thus, the following was hypothesized:\\nH8. Self-efficacy significantly affects automatic precursors.\\nH9. Self-efficacy significantly affects controlled precursors.\\nFor the precursors, TEMPA explains why individuals aspiring to engage in physical\\nactivity may not do so [57]. The framework considers both the automatic reactions triggered\\nby physical activity cues and the inherent desire to avoid exerting too much physical\\neffort. This explains that a person’s movements are swayed by automatic and controlled\\nprecursors. These precursors are triggered by the cues related to the movement, and how\\nindividuals feel about these cues was also said to affect the perceived effort that is needed\\nto perform the movement [58]. For these precursors to be effective and drive an individual\\nto engage in physical activity, the precursors supporting the intention should outweigh\\nthe negative precursors that reduce effort [28]. Ong et al. [24] exhibited that health and\\nwell-being are preceded by a person’s self-efficacy and its increase, which also increases\\ntheir behavioral intention. Thus, the following was theorized:\\nH10. Automatic precursors have a significant direct effect on behavioral intention.\\nH11. Controlled precursors have a significant direct effect on behavioral intention.\\nGoulet et al. [59] investigated the predictors of the use of performance-enhancing\\ndrugs (PED) among young athletes. To which, their study presented that all behavioral\\nfactors had a positive influence on behavioral intention. The results of the study suggested\\nthat psychosocial factors had a significant effect on their use of PEDs. In another study,\\nSamoggia and Rezzaghi [60] investigated the effect of the consumption of products that\\ncontain caffeine on sports performance. Behavioral intention was the dependent variable\\nin the study, presenting a positive outcome from the consumption of the products. Fur-\\nthermore, in a study investigating the role of education on the use of energy supplements,\\nMehri et al. [61] found that behavioral intention had the most significant impact. Educa-\\ntional interventions lowered the behavioral intention of the participants, which ultimately\\ndecreased the intake of the supplements. Relating to the positive results of studies, the\\nstudy hypothesized the following:\\nH12. Behavioral intention has a significant direct effect on the actual consumption of fitness supplements.\\n3. Methodology\\nParticipants\\nThe questionnaire was voluntarily answered by 250 respondents and was collected via\\na purposive sampling technique. The data collection period started in November 2023 and\\nfinished in February 2024, and respondents were composed of individuals residing in the\\nPhilippines who consume any kind of fitness supplement. The responses were gathered\\nthrough Google Forms and were answered in face-to-face interviews among gym-goers.\\nTable 1 shows the descriptive statistics of the demographic profiles of the respondents.\\nA total of 57.6% are male, while 42.4% are female. The respondents’ age ranges were\\n15–24 (74.8%), 25–34 (20.4%), 35–44 (3.6%), 45–54 (0.8%), and 55–64 years old (0.4%). The\\nrespondents’ educational status consists of 1.60% junior high school graduates, 55.2% senior\\nhigh school graduates, 2.8% vocational graduates, 39.6% college graduates, and 0.8% master’s\\ndegree graduates. Moreover, the respondents’ employment status was asked, and it showed\\nthat 70% are students, 2.4% are unemployed, and 27.6% are employed/self-employed.\\n'),\n",
       " Document(metadata={'source': 'data\\\\1. Analysis of Actual Fitness Supplement.pdf', 'file_path': 'data\\\\1. Analysis of Actual Fitness Supplement.pdf', 'page': 6, 'total_pages': 15, 'format': 'PDF 1.7', 'title': '', 'author': '', 'subject': '', 'keywords': '', 'creator': '', 'producer': 'iLovePDF', 'creationDate': '', 'modDate': 'D:20241021113850Z', 'trapped': ''}, page_content='Foods 2024, 13, 1424\\n7 of 21\\nTable 1. Demographic profile.\\nFactor\\nCharacteristics\\nN\\n%\\nsex\\nmale\\n144\\n57.6\\nfemale\\n106\\n42.4\\nage\\n15–24 years old\\n187\\n74.8\\n25–34 years old\\n51\\n20.4\\n35–44 years old\\n9\\n3.6\\n45–54 years old\\n2\\n0.8\\n55–64 years old\\n1\\n0.4\\n64 years old and older\\n0\\n0.0\\neducation attainment\\nelementary\\n0\\n0.0\\njunior high school\\n4\\n1.6\\nsenior high school\\n138\\n55.2\\nvocational\\n7\\n2.8\\ncollege\\n99\\n39.6\\nmaster’s degree\\n2\\n0.8\\nPh.D.\\n0\\n0.0\\nemployment status\\nstudent\\n175\\n70.0\\nunemployed\\n6\\n2.4\\nemployed/self-employed\\n69\\n27.6\\nmonthly income/allowance\\nless than 15,000 Php\\n156\\n58.4\\n15,000–30,000 Php\\n52\\n20.8\\n30,001–45,000 Php\\n22\\n8.8\\n45,001–60,000 Php\\n16\\n6.0\\nmore than 60,000 Php\\n15\\n6.0\\nperiod of consumption of fitness supplements\\nless than 1 year\\n140\\n56.0\\n1–2 years\\n72\\n28.8\\n2–3 years\\n19\\n7.6\\nmore than 3 years\\n19\\n7.6\\nplaces of purchase\\npharmacies\\n26\\n10.4\\nfitness centers\\n14\\n5.6\\nsupplement stores\\n69\\n27.6\\ninternet/online shopping\\n138\\n55.2\\nOther\\n3\\n1.2\\nprice\\nless than 1000 Php\\n99\\n39.6\\n1001–2000 Php\\n101\\n40.4\\ngreater than 2000 Php\\n50\\n20\\nThe survey instrument (Appendix A) encompasses five aspects of respondents’ per-\\nspectives toward fitness supplement consumption. Initially, Table 1 presents the respon-\\ndents’ demographic profile. Consequently, the Theory of Planned Behavior (TPB) frame-\\nwork consisting of three latent variables assessed the respondents’ attitude, subjective\\nnorms, and perceived behavioral control toward their consumption of fitness supplements.\\nFollowed by this, the Health Belief Model (HBM) framework consisting of four latent\\nvariables assessed the perceived effectiveness, perceived benefits, perceived barriers, and\\nhealth motivation of the respondents. The Theory of Effort Minimization in Physical Ac-\\ntivity (TEMPA) framework involves another three latent variables, including self-efficacy,\\nautomatic precursors, and controlled precursors. The final section of the questionnaire\\ngauged the behavioral intention and actual consumption patterns of the respondents. In\\ntotality, the questionnaire comprises 12 latent variables, utilizing a 5-point Likert scale\\nranging from 1 as “Strongly Disagree” to 5 as “Strongly Agree”.\\nTo measure factors affecting actual consumption, the Structural Equation Modeling\\n(SEM) was applied in this study using SMART PLS v3.0. According to Ampofo and\\nAidoo [62], SEM is a prominently used multivariate tool for assessing the direct and\\nindirect relationships between latent variables. The theory simplifies the relationships\\n'),\n",
       " Document(metadata={'source': 'data\\\\1. Analysis of Actual Fitness Supplement.pdf', 'file_path': 'data\\\\1. Analysis of Actual Fitness Supplement.pdf', 'page': 7, 'total_pages': 15, 'format': 'PDF 1.7', 'title': '', 'author': '', 'subject': '', 'keywords': '', 'creator': '', 'producer': 'iLovePDF', 'creationDate': '', 'modDate': 'D:20241021113850Z', 'trapped': ''}, page_content='Foods 2024, 13, 1424\\n8 of 21\\nby constructing a path model to depict the effects resulting from the latent variables.\\nWathanakom [63] utilized SEM to assess the factors influencing Generation Y consumers’\\nvitamin and nutritional supplement purchasing intentions. The outcome of the study\\noutlined the direct and indirect effects of the various factors, and their approach was\\nsaid to be valuable to design campaigns to increase awareness about the significance of\\nvitamins and nutritional supplements, aiding consumers in selecting the suitable supple-\\nments for purchase. In addition, Nystrand and Olsen [64] investigated the intention of\\nconsumption toward functional foods with an extended TPB model; their results enhanced\\ninsight into consumer motivation for functional food consumption and suggested potential\\nbenefits for the food industry. Moreover, the SEM results supported hypotheses related\\nto predictors of intention and consumption frequency for functional foods, highlighting\\nthe importance of self-efficacy, attitudes, social norms, and control beliefs in consumers’\\ndecision-making processes.\\n4. Results\\nThe initial structural equation model (SEM) illustrating the factors influencing the\\nintention to consume fitness supplements is represented in Figure 2. The indicators of\\nlatent variables serve as measures to gauge the validity of the relationship between ob-\\nserved data and the underlying construct. The survey questionnaire allows respondents to\\nself-evaluate the significance of factors that affect their behavioral intention to consume\\nfitness supplements. This model indicates whether an indicator affects and influences an\\nindividual’s intention.\\n \\nFigure 2. Initial Structural Equation Model to assess behavioral intention and actual consumption of\\nfitness supplements.\\nTable 2 displays the reliability and validity values for the final model. Not all factor\\nloadings sufficiently capture the latent variability. Therefore, items with initial loading\\n'),\n",
       " Document(metadata={'source': 'data\\\\1. Analysis of Actual Fitness Supplement.pdf', 'file_path': 'data\\\\1. Analysis of Actual Fitness Supplement.pdf', 'page': 8, 'total_pages': 15, 'format': 'PDF 1.7', 'title': '', 'author': '', 'subject': '', 'keywords': '', 'creator': '', 'producer': 'iLovePDF', 'creationDate': '', 'modDate': 'D:20241021113850Z', 'trapped': ''}, page_content='Foods 2024, 13, 1424\\n9 of 21\\nvalues that were less than 0.7 were extracted from the final loading. Chronbach’s apla\\n(α), composite reliability (CR), and the average variance extracted (AVE) are then used to\\nmeasure the internal consistency, reliability, and validity. Additionally, the cutoff value for\\nthe convergent validity of the AVE should be higher than 0.5. All values made the cutoff,\\nwhich indicates consistency and reliability across the test item sample. This implies that\\neach construct from this model may be classified as valid and reliable. Presented in Figure 3\\nis the final SEM for this study.\\nTable 2. Lower-order construct validity and reliability.\\nConstruct\\nItems\\nMean\\nStD\\nInitial IL\\nFinal FL\\nCA\\nCR\\nAVE\\nattitude (A)\\nA1\\n4.2\\n0.8\\n0.8\\n0.8\\n0.8\\n0.9\\n0.6\\nA2\\n3.6\\n1.1\\n0.8\\n0.8\\nA3\\n3.9\\n1.0\\n0.8\\n0.8\\nsubjective norms (SN)\\nSN1\\n3.3\\n1.2\\n0.5\\n-\\n-\\n-\\n-\\nSN2\\n3.1\\n1.2\\n0.6\\n-\\nSN3\\n3.8\\n1.0\\n0.8\\n-\\nSN4\\n3.7\\n1.1\\n0.8\\n-\\nperceived behavioral\\ncontrol (PBC)\\nPBC1\\n4.5\\n0.8\\n0.7\\n0.7\\n0.8\\n0.9\\n0.6\\nPBC2\\n4.3\\n0.9\\n0.8\\n0.8\\nPBC3\\n4.2\\n0.9\\n0.8\\n0.8\\nPBC4\\n4.3\\n0.9\\n0.8\\n0.8\\nperceived\\neffectiveness (PE)\\nPE1\\n4.4\\n0.7\\n0.8\\n-\\n-\\n-\\n-\\nPE2\\n3.2\\n1.2\\n0.6\\n-\\nPE3\\n3.4\\n1.1\\n0.7\\n-\\nPE4\\n3.7\\n1.1\\n0.7\\n-\\nperceived benefits (PBE)\\nPBE1\\n3.3\\n1.1\\n0.7\\n-\\nPBE2\\n3.8\\n1.0\\n0.8\\n-\\n-\\n-\\n-\\nPBE3\\n3.8\\n1.0\\n0.8\\n-\\nPBE4\\n4.2\\n0.9\\n0.8\\n-\\nperceived barriers (PBA)\\nPBA1\\n2.8\\n1.3\\n0.5\\n-\\n-\\n-\\n-\\nPBA2\\n3.7\\n1.1\\n0.2\\n-\\nPBA3\\n3.0\\n1.4\\n0.5\\n-\\nPBA4\\n2.4\\n1.3\\n0.9\\n-\\n-\\n-\\n-\\nPBA5\\n2.0\\n1.2\\n0.9\\n-\\nhealth motivation (HM)\\nHM1\\n3.8\\n1.0\\n0.7\\n-\\n0.8\\n0.9\\n0.7\\nHM2\\n4.1\\n1.1\\n0.7\\n-\\n-\\n-\\n-\\nHM3\\n4.2\\n0.9\\n0.8\\n0.8\\nHM4\\n4.2\\n0.9\\n0.8\\n0.8\\n-\\n-\\n-\\nHM5\\n4.2\\n0.9\\n0.8\\n0.8\\nself-efficacy (SE)\\nSE1\\n4.2\\n0.9\\n0.9\\n0.9\\n0.9\\n0.9\\n0.6\\nSE2\\n4.2\\n0.9\\n0.8\\n0.8\\n-\\n-\\n-\\nSE3\\n4.2\\n0.9\\n0.8\\n0.8\\n-\\n-\\n-\\nSE4\\n4.2\\n0.9\\n0.8\\n0.8\\n-\\n-\\n-\\nSE5\\n4.1\\n0.9\\n0.7\\n0.7\\nautomatic\\nprecursors (AP)\\nAP1\\n4.2\\n0.8\\n0.9\\n0.9\\n0.8\\n0.9\\n0.7\\nAP2\\n4.0\\n1.0\\n0.8\\n0.8\\n-\\n-\\n-\\nAP3\\n4.0\\n0.9\\n0.9\\n0.9\\ncontrolled\\nprecursors (CP)\\nCP1\\n4.4\\n0.8\\n0.7\\n0.7\\n0.8\\n0.9\\n0.6\\nCP2\\n4.4\\n0.8\\n0.8\\n0.8\\n-\\n-\\n-\\nCP3\\n4.3\\n0.8\\n0.8\\n0.8\\n-\\n-\\n-\\nCP4\\n4.1\\n0.9\\n0.8\\n0.8\\n-\\n-\\n-\\nCP5\\n4.6\\n0.7\\n0.7\\n0.7\\n'),\n",
       " Document(metadata={'source': 'data\\\\1. Analysis of Actual Fitness Supplement.pdf', 'file_path': 'data\\\\1. Analysis of Actual Fitness Supplement.pdf', 'page': 9, 'total_pages': 15, 'format': 'PDF 1.7', 'title': '', 'author': '', 'subject': '', 'keywords': '', 'creator': '', 'producer': 'iLovePDF', 'creationDate': '', 'modDate': 'D:20241021113850Z', 'trapped': ''}, page_content='Foods 2024, 13, 1424\\n10 of 21\\nTable 2. Cont.\\nConstruct\\nItems\\nMean\\nStD\\nInitial IL\\nFinal FL\\nCA\\nCR\\nAVE\\nbehavioral intention (BI)\\nBI1\\n3.7\\n1.2\\n0.8\\n0.8\\n0.8\\n0.9\\n0.6\\nBI2\\n4.0\\n1.0\\n0.8\\n0.8\\n-\\n-\\n-\\nBI3\\n4.3\\n0.8\\n0.7\\n0.7\\n-\\n-\\n-\\nBI4\\n4.1\\n0.9\\n0.8\\n0.8\\nactual consumption (AC)\\nAC1\\n4.2\\n0.9\\n0.8\\n0.8\\n0.8\\n0.9\\n0.7\\nAC2\\n4.1\\n0.9\\n0.8\\n0.8\\n-\\n-\\n-\\nAC3\\n4.1\\n0.9\\n0.8\\n0.8\\n-\\n-\\n-\\nAC4\\n4.2\\n0.8\\n0.8\\n0.8\\nNote: StD—standard deviation; AVE—average variance extracted; CA—Chronbach’s alpha; CR—composite\\nreliability; IL—initial loading; FL—final loading; A—attitude; SN—subjective norms; PBC—perceived behav-\\nioral control; PE—perceived effectiveness; PBE—perceived benefits; PBA—perceived barriers; HM—health\\nmotivation; SE—self-efficacy; AP—automatic precursors; CP—controlled precursors; BI—behavioral intention;\\nAC—actual consumption.\\n \\nFigure 3. Final structural equation model.\\nIn Table 3, the discriminant validity includes both the Fornell–Larcker criterion and the\\nheterotrait–monotrait ratio. It illustrates the correlation between each latent variable and\\nevaluates the structural model [65]. As suggested, the threshold value for the HTMT ratio\\nshould be less than 1 (<1) indicating a correlation between two latent variables. However,\\nif the ratio is greater than 1, a lack of discriminant validity is evident. Hence, the authors\\nrecommend a HTMT ratio lower than 0.85 or 0.90 for constructs to avoid overlap. As shown\\nin Table 4, the HTMT ratio fell within the desired threshold.\\nTable 4 shows the model fit indices conducted to illustrate the proposed model’s\\nreliability. The table indicates that all parameter estimates met the suggested cutoff, rep-\\nresenting the suitability of the suggested model. The values of d_ULS and d_G were\\n1.205 and 5.316, respectively. With this, the results reflected excellent batch between the\\ndata and measurement model, indicating that the model’s quality is suitable to explain the\\ndata (Table 5).\\n'),\n",
       " Document(metadata={'source': 'data\\\\1. Analysis of Actual Fitness Supplement.pdf', 'file_path': 'data\\\\1. Analysis of Actual Fitness Supplement.pdf', 'page': 10, 'total_pages': 15, 'format': 'PDF 1.7', 'title': '', 'author': '', 'subject': '', 'keywords': '', 'creator': '', 'producer': 'iLovePDF', 'creationDate': '', 'modDate': 'D:20241021113850Z', 'trapped': ''}, page_content='Foods 2024, 13, 1424\\n11 of 21\\nTable 3. Discriminant validity.\\nFornell–Lacker Criterion\\nAP\\nAC\\nA\\nBI\\nCP\\nHM\\nPBC\\nSE\\nAP\\n0.846\\n-\\n-\\n-\\n-\\n-\\n-\\n-\\nAC\\n0.691\\n0.829\\n-\\n-\\n-\\n-\\n-\\n-\\nA\\n0.591\\n0.614\\n0.795\\n-\\n-\\n-\\n-\\n-\\nBI\\n0.634\\n0.747\\n0.66\\n0.777\\n-\\n-\\n-\\n-\\nCP\\n0.666\\n0.741\\n0.587\\n0.682\\n0.762\\n-\\n-\\n-\\nHM\\n0.615\\n0.738\\n0.583\\n0.669\\n0.647\\n0.825\\n-\\n-\\nPBC\\n0.533\\n0.565\\n0.595\\n0.565\\n0.563\\n0.536\\n0.784\\n-\\nSE\\n0.717\\n0.727\\n0.656\\n0.73\\n0.705\\n0.676\\n0.597\\n0.799\\nHeterotrait-Monotrait Ratio\\nAP\\nAC\\nA\\nBI\\nCP\\nHM\\nPBC\\nSE\\nAP\\n-\\n-\\n-\\n-\\n-\\n-\\n-\\n-\\nAC\\n0.837\\n-\\n-\\n-\\n-\\n-\\n-\\n-\\nA\\n0.72\\n0.722\\n-\\n-\\n-\\n-\\n-\\n-\\nBI\\n0.804\\n0.812\\n0.809\\n-\\n-\\n-\\n-\\n-\\nCP\\n0.804\\n0.819\\n0.68\\n0.836\\n-\\n-\\n-\\n-\\nHM\\n0.776\\n0.811\\n0.709\\n0.843\\n0.795\\n-\\n-\\n-\\nPBC\\n0.643\\n0.662\\n0.687\\n0.697\\n0.684\\n0.655\\n-\\n-\\nSE\\n0.844\\n0.848\\n0.767\\n0.771\\n0.822\\n0.82\\n0.697\\n-\\nTable 4. Model fit indices.\\nParameters\\nEstimates\\nSuggested Cutoff\\nReference\\nSRMR\\n0.068\\n<0.08\\nHu and Bentler [66]\\nChi-Square\\n3.400\\n<5.00\\nHooper et al. [67]\\nNFI\\n0.921\\n>0.90\\nBaumgartner and Homburg [68]\\nTable 5. Hypothesis results.\\nHypothesis\\nRelationship\\nβ-Values\\nρ-Values\\nDecision\\n1\\nattitude →behavioral intention\\n0.257\\n<0.001\\naccept\\n2\\nsubjective norms →behavioral intention\\n0.021\\n0.688\\nreject\\n3\\nperceived behavioral control →behavioral intention\\n0.193\\n0.004\\naccept\\n4\\npercevied effectiveness →behavioral intention\\n−0.057\\n0.429\\nreject\\n5\\nhealth motivation →behavioral intention\\n0.307\\n<0.001\\naccept\\n6\\nperceived benefits →behavioral intention\\n0.087\\n0.214\\nreject\\n7\\nperceived barriers →behavioral intention\\n−0.018\\n0.717\\nreject\\n8\\nself-efficacy →automatic precursors\\n0.717\\n<0.001\\naccept\\n9\\nself-efficay →controlled precursors\\n0.705\\n<0.001\\naccept\\n10\\nautomatic precursors →behavioral intention\\n0.107\\n0.206\\nreject\\n11\\ncontrolled precursors →behavioral intention\\n0.272\\n<0.001\\naccept\\n12\\nbehavioral intention →actual consumption\\n0.747\\n<0.001\\naccept\\n5. Discussion\\nFitness supplements are products designed to complement a person’s diet and exercise\\nroutine, with the aim of enhancing various aspects of health, fitness, or performance.\\nThe purpose of this study was to investigate the factors that influence the consumption\\nof fitness supplements. A total of 250 individuals answered the online questionnaire,\\nwhich accounted for 12 latent variables that were integrated from the Theory of Planned\\nBehavior (TPB), the Health Belief Motivation (HBM) framework, and the Theory of Effort\\nMinimization in Physical Activity (TEMPA) framework.\\nAttitude was seen to have a significant effect on behavioral intention to consume\\nfitness supplements (β: 0.257; p < 0.001). Based on the established constructs, consumers\\n'),\n",
       " Document(metadata={'source': 'data\\\\1. Analysis of Actual Fitness Supplement.pdf', 'file_path': 'data\\\\1. Analysis of Actual Fitness Supplement.pdf', 'page': 11, 'total_pages': 15, 'format': 'PDF 1.7', 'title': '', 'author': '', 'subject': '', 'keywords': '', 'creator': '', 'producer': 'iLovePDF', 'creationDate': '', 'modDate': 'D:20241021113850Z', 'trapped': ''}, page_content='Foods 2024, 13, 1424\\n12 of 21\\nfind spending money on fitness supplements worthwhile and useful. This implies that\\nconsumers benefit from investing in fitness supplements and emphasize the importance\\nand value of them. This is similar to the findings in the study by Liu [34], which highlighted\\nattitude as a significant factor affecting the intention to consume supplements because\\nconsumers see purchasing supplements as a sensible and helpful choice for them. In\\nanother study, Wathanakom [66] showed that individuals who perceive gym supplements\\npositively or associate them with health benefits or improved fitness are more inclined to\\nconsider using them.\\nSubjective norms were observed to have an insignificant impact on the behavioral\\nintention to consume fitness supplements (β: 0.021; p = 0.688). This indicates that the\\ndecision of individuals to purchase and consume fitness supplements is a choice based on\\ntheir own will and does not adhere to, nor is it influenced by, the standards or insights\\nof other individuals, whether it be people important to them or celebrities who endorse\\nthe supplements. This result is aligned with the findings of Kitcharoen and Vongurai [69],\\nwhose findings indicate that subjective norms did not have any direct influence on be-\\nhavioral intention to consume dietary supplements. It underscored how international\\ncompanies appoint social media influencers as their brand ambassadors in the hopes that\\nthese brand ambassadors will foster a positive outlook on dietary supplements, supposedly\\nincreasing an individual’s inclination to use dietary supplements. However, it contrasts\\nwith the studies by Alami [32], which underscored that the influence of friends, parents,\\nand teachers was significant in dietary behavior toward iron and vitamin D, as they served\\nas role models and provided social support. Moreover, Haubenstricker et al. [34], found\\nthat bodybuilders in in-season competitions are influenced by those around them, including\\ntrainers, workout partners, and social media influencers.\\nMeanwhile, perceived behavioral control significantly affected behavioral intention,\\nas well (β: 0.193; p = 0.004). Consumers exhibit a sense of control and ease over the con-\\nsumption of fitness supplements, viewing it as manageable and straightforward. Moreover,\\nthis indicates the voluntary nature of this choice, highlighting the individual’s sense of\\ncontrol and decision-making. This is consistent with the findings of Chen et al. [36], which\\nfound that perceived behavioral control was a significant driver in the intention to consume\\nvitamin D supplements, because individuals are more likely to engage in the consumption\\nof supplements if they find it easy to perform, and that past experiences with supplemen-\\ntation shapes perceived behavioral control, where positive experiences boost confidence\\nand negative ones create doubts. Additionally, Lino [35] also found that perceived be-\\nhavioral control had a significant impact on the intention to use dietary supplements; the\\nfindings indicated that individuals with a greater sense of control over the use of dietary\\nsupplements demonstrated stronger intentions to use them. This suggests that individuals\\nwho felt more in control of their treatment were more likely to express positive beliefs\\nand intentions regarding the use of dietary supplements. This is contrary to the findings\\nof Al-Swidi et al. [70], whose results indicated that perceived behavioral control had no\\nsignificant effect on the purchase intention of organic foods; the lack of significance of\\nperceived behavioral control in predicting organic food buying intentions in this study is\\nattributed to a combination of cultural factors, dependence on subjective norms, and the\\nemerging nature of the concept in the studied population.\\nIn this study, perceived effectiveness was found to have an insignificant effect on\\nbehavioral intention (β: −0.057; p = 0.429). Based on the constructs, this indicates that\\nconsumers do not deem fitness supplements as mandatory. The responses implied a\\nfrail view regarding the importance of using supplements for well-being, energy levels,\\nand daily performance. These findings are similar to Burke and Manore [71], which\\nstated that individuals whose diets provide adequate energy and nutrients can support\\nexercise performance and maintain nutritional intake without the need for supplements.\\nFurthermore, Jordan et al. [72] stated that micronutrient supplements are not mandatory\\nfor athletes who consume nutrient-dense food that provide high levels of energy, further\\nhighlighting the optionality of supplements. These results contrast those of Bussicott\\n'),\n",
       " Document(metadata={'source': 'data\\\\1. Analysis of Actual Fitness Supplement.pdf', 'file_path': 'data\\\\1. Analysis of Actual Fitness Supplement.pdf', 'page': 12, 'total_pages': 15, 'format': 'PDF 1.7', 'title': '', 'author': '', 'subject': '', 'keywords': '', 'creator': '', 'producer': 'iLovePDF', 'creationDate': '', 'modDate': 'D:20241021113850Z', 'trapped': ''}, page_content='Foods 2024, 13, 1424\\n13 of 21\\net al. [73], who found that perceived effectiveness played a significant effect in shaping the\\nusage patterns of complementary medicine (CM) products. The reliance on information\\nfrom family and friends, coupled with the occurrence of adverse effects in more than\\nhalf of the participants, underscores the impact of perceived effectiveness on consumer\\nchoices. Despite potential risks and limited clinical evidence, CM weight-loss products\\nwere perceived as accessible, safe, and cost-effective.\\nPerceived benefits were seen to have an insignificant effect on behavioral intention\\n(β: −0.018; p = 0.717). Thus, respondents do not perceive the consistent intake of gym\\nsupplements as a preventive measure against health-related issues, which aligns with how\\nconsuming these supplements does not aid in building good health or contribute to an\\nindividual’s well-being. These findings are consistent with the study by Kiely et al. [74],\\nwhich investigated the health behaviors of individuals during the pandemic. It was found\\nthat perceived benefit had no statistical significance toward a change in exercise behavior;\\nindividuals’ perceptions of the benefits of exercise did not strongly correlate with their\\nactual exercise behavior changes. This implies that, at least in the context of the studied\\npopulation during the pandemic, people were more influenced by perceived barriers than\\nby their beliefs in the positive outcomes of exercise. Similarly, Rodrigues [58] stated that\\nindividuals consumed fitness supplements with the goal of gaining muscle, improving\\nrecovery, and enhancing performance. None have a correlation with health, as fitness\\nsupplements are not mandatory and are not endorsed to aid in the treatment of any health-\\nrelated issue. These results contrast with the findings of Ghai and Sharma [75], who\\nfound that perceived benefits, alongside trust, shaped satisfaction and the intention to\\npurchase organic food. Consumers who perceive benefits and have trust in organic foods\\nare more likely to express a willingness to pay premium prices and experience higher\\nsatisfaction levels. This is similar with the findings of Hoseini et al. [76], in which perceived\\nbenefits significantly affected the consumption of dietary supplements, with individuals\\nincorporating these products into their routines for various reasons. The desire for fitness,\\nphysical beauty, and skin health, alongside the intention to fill nutritional gaps and alleviate\\nthe side effects of micronutrient deficiencies, drives individuals to use supplements.\\nMoreover, health motivation significantly affected behavioral intention (β: 0.307;\\np < 0.001). Based on the constructs, respondents consume fitness supplements with mul-\\ntiple goals in mind, including increasing muscle mass, enhancing performance in fitness\\nactivities, meeting nutritional needs, and supporting the maintenance or initiation of a\\nhealthy lifestyle. They view fitness supplements as versatile tools with a range of posi-\\ntive impacts. The diverse reasons for consumption suggest a comprehensive approach\\nto health, encompassing not only physical well-being but also performance and lifestyle\\nconsiderations. Additionally, they see fitness supplements as instrumental in achieving\\nvarious health-related objectives, from muscle building and performance enhancement to\\nnutritional support and the promotion of a sustainable healthy lifestyle. This is aligned\\nwith the results of Sirico [46], which found that the enhancement of sport performance\\nand overall health and wellness are primary motivations for supplement use. Addition-\\nally, Kovács’ [44] study discovered that health preservation and physical well-being were\\nthe primary reasons for taking food supplements due to individual motivations, psy-\\nchological factors, and the recognition of the interconnectedness between nutrition and\\noverall well-being.\\nTehrani [77] found that diabetes patients with a history of CAM use demonstrated\\nfewer barriers to engaging in diabetes self-care behaviors. Therefore, mitigating perceived\\nbarriers increases the probability of an individual to engage in certain behavior. In relation\\nto the study, perceived barriers were seen to have an insignificant impact on behavioral\\nintention (β: −0.018; p = 0.717). The consumers do not express challenges related to ac-\\nquiring and consuming fitness supplements, specifically in terms of distance, cost, limited\\navailability, lack of motivation, and embarrassment as barriers. This indicates that con-\\nsumers have easy access to affordable fitness supplements, either due to the proximity\\nof stores, reasonable pricing, or the availability of cost-effective alternatives. Addition-\\n'),\n",
       " Document(metadata={'source': 'data\\\\1. Analysis of Actual Fitness Supplement.pdf', 'file_path': 'data\\\\1. Analysis of Actual Fitness Supplement.pdf', 'page': 13, 'total_pages': 15, 'format': 'PDF 1.7', 'title': '', 'author': '', 'subject': '', 'keywords': '', 'creator': '', 'producer': 'iLovePDF', 'creationDate': '', 'modDate': 'D:20241021113850Z', 'trapped': ''}, page_content='Foods 2024, 13, 1424\\n14 of 21\\nally, they feel confident and motivated in their health choices, leading to a more open\\nand positive attitude toward supplement use. This result is consistent with the study by\\nFebian et al. [78], which found that individuals are inclined to consume functional food if\\nthey anticipate fewer barriers, such as difficult preparation and an unpalatable scent.\\nSelf-efficacy was seen to have a significant impact on automatic (β: 0.717; p < 0.001)\\nand controlled precursors (β: 0.705; p < 0.001). Fitness supplements aid in their confidence\\nin different aspects of exercise and achieving their fitness goals. They contribute positively,\\nwhich leads to greater adherence to routines, increased motivation, and overall fitness\\noutcomes. This is consistent with the findings of Zhao et al. [79], which were that self-\\nefficacy influences exercise behavior by boosting confidence in athletic abilities. Higher\\nexercise self-efficacy contributes to a more enjoyable and enduring engagement in physical\\nactivity, fostering a lifelong habit of sports. This has also verified the results of Gacek [56],\\nwhich revealed that individuals with higher self-efficacy engaged in behaviors that promote\\nhealth and enhance physical fitness, and they engaged less in behaviors that are detrimental\\nto their health, such as drinking alcoholic beverages.\\nThe results revealed that controlled precursors have a significant effect toward be-\\nhavioral intention (β: 0.272; p < 0.001), which based on the indicators, were voluntary\\nevaluation of the benefits of the supplements, matching their consumption with proper\\ndiet and exercise, recognizing their usefulness, and acknowledging the value of a healthy\\nlifestyle affect consumers’ intent to engage in activities that are aligned with fitness. This\\nimplies that controlled precursors prompt their intention to consume supplements suggest-\\ning that the precursors outweigh the impact of opposing processes that promote minimal\\neffort [28]. Moreover, controlled precursors are classified as advanced cognitive func-\\ntions, including reflective reasoning, that play a significant role in the decision-making\\nprocess [80]. This indicates that respondents evaluate activities based on the outcomes that\\ncome with performing the activity. This is evident in the study by Jagim et al. [81], which\\nfound that individuals consume pre-workout, which generally contained beta-alanine,\\ncaffeine, and creatine, to make workouts easier and improve their performance.\\nAutomatic precursors were observed to have an insignificant effect on behavioral\\nintention (β: 0.107; p = 0.206). These results suggest that the involuntary cues have little\\ninfluence over decision-making, indicating that respondents rely on conscious evaluation\\nand deliberation when considering whether to consume fitness supplements. They are\\nmore likely to weigh the pros and cons and consider their goals for their consumption [82].\\nThese results are inconsistent with the studies by Rodrigues [58], which found that past\\nbehaviors and autonomous motivation fostered by satisfaction and enjoyment were seen\\nto be significant predictors of future intentions to exercise. This suggests that habitual\\nactions influenced by past experiences may overshadow intentions in predicting future\\nbehavior. The insignificance of automatic precursors is consistent with the nature of\\nthis study because the decision to consume supplements is optional and heavily relies\\non the conscious evaluation aligned with an individual’s personal goals and nutritional\\nneeds. Based on the indicators, the findings depicted how habits and satisfaction from past\\nbehaviors are overshadowed by conscious considerations and external influences.\\nLastly, with behavioral intention as the mediating factor, it was seen to have a signifi-\\ncant role in actual consumption (β: 0.747; p < 0.001); respondents express the willingness to\\ncontinue purchasing fitness supplements and plan to use them to improve their health in\\nthe coming periods. Additionally, they plan to pay attention to the supplements they will\\nconsume and recommend to others. This indicates a positive perception of supplements,\\nwhich is a probable basis for the intention to continuously consume them for improving\\ntheir fitness and endorsing others to consume them, as well. This is consistent with the\\nresults of Nystrand and Olsen [64], which were that consumers’ behavioral intention to\\nconsume functional foods was shaped by factors such as attitude, self-efficacy, and sub-\\njective norms. This suggests that individuals are motivated to consume certain products,\\nas long as they perceive themselves as capable of doing so, and that social pressure from\\nindividuals of importance plays a pivotal role, as well. Moreover, behavioral intention\\n'),\n",
       " Document(metadata={'source': 'data\\\\1. Analysis of Actual Fitness Supplement.pdf', 'file_path': 'data\\\\1. Analysis of Actual Fitness Supplement.pdf', 'page': 14, 'total_pages': 15, 'format': 'PDF 1.7', 'title': '', 'author': '', 'subject': '', 'keywords': '', 'creator': '', 'producer': 'iLovePDF', 'creationDate': '', 'modDate': 'D:20241021113850Z', 'trapped': ''}, page_content='Foods 2024, 13, 1424\\n15 of 21\\ntoward food supplement safety was shaped by health motivation and attitude in the study\\nby Bayır [83], indicating that positive attitude and concerns about personal health leads to\\nthe consumption of supplements, thereby predicting that supplement use will increase in\\nthe future.\\n6. Conclusions and Implications\\nThe study contributes to existing theories, such as the Theory of Planned Behavior\\n(TPB), Health Belief Motivation (HBM), and Theory of Effort Minimization in Physical\\nActivity (TEMPA), by providing empirical evidence of the factors influencing consumers’\\nintention to consume fitness supplements. This expands the understanding of how psycho-\\nlogical factors shape consumer behavior. The study highlights the importance of health\\nmotivation as the central driver of behavioral intention, suggesting that health-related\\ngoals play a significant role in shaping consumer decisions regarding supplement usage.\\nAdditionally, the study underscores the complexity of consumer decision-making processes,\\ndemonstrating the interplay between cognitive evaluation, self-efficacy, and automatic\\nprecursors in influencing behavioral intention. Through theoretical constructs discussed,\\nthe study provides a foundation for further research into the underlying mechanisms\\ndriving consumer behavior in the fitness supplement market, ultimately advancing the\\ntheoretical understanding of consumer decision-making.\\nThe findings of the study can be significant for the fitness supplement industry. Firstly,\\ncompanies should prioritize marketing efforts that highlight the benefits and ease of use of\\ntheir products, emphasizing factors such as effectiveness, convenience, and affordability to\\nappeal to consumers. Secondly, understanding the strong influence of health motivation,\\ncompanies can tailor their product offerings and marketing to align with consumers’ health\\ngoals and aspirations, thus enhancing the perceived value of their supplements. Thirdly,\\neducational interventions are crucial to address any misconceptions regarding supplement\\nusage, providing evidence-based information to build consumer trust and confidence.\\nAdditionally, companies can invest in strategies to enhance consumer self-efficacy, such\\nas providing resources and support to help consumers make informed decisions about\\nsupplement usage. Overall, by focusing on these managerial implications, companies can\\nbetter meet the needs and preferences of consumers, driving sales and fostering long-term\\nbrand loyalty in the competitive fitness supplement market. Future research may opt to\\nconsider more respondents as gaining more diverse demographic context, insights, and\\nperception, which may lead to other findings.\\nAuthor Contributions: Conceptualization, P.R.E., A.K.S.O., J.D.G., M.J.J.G. and E.S.C.; methodology,\\nP.R.E., A.K.S.O., J.D.G., M.J.J.G. and E.S.C.; software, P.R.E., A.K.S.O., J.D.G. and M.J.J.G.; validation,\\nP.R.E., A.K.S.O., J.D.G., M.J.J.G. and E.S.C.; formal analysis, P.R.E. and A.K.S.O.; investigation, P.R.E.,\\nA.K.S.O. and J.D.G.; resources, P.R.E., A.K.S.O., J.D.G., M.J.J.G. and E.S.C.; data curation, P.R.E.,\\nA.K.S.O. and J.D.G.; writing—original draft preparation P.R.E., A.K.S.O. and J.D.G.; writing—review\\nand editing, P.R.E., A.K.S.O., J.D.G., M.J.J.G. and E.S.C.; visualization, P.R.E., A.K.S.O., J.D.G., M.J.J.G.\\nand E.S.C.; supervision, J.D.G. and A.K.S.O.; project administration, J.D.G., A.K.S.O. and M.J.J.G.;\\nfunding acquisition, J.D.G. and A.K.S.O. All authors have read and agreed to the published version\\nof the manuscript.\\nFunding: This research was funded by Mapua University Directed Research for Innovation and\\nValue Enhancement (DRIVE).\\nInstitutional Review Board Statement: This study was approved by the Mapua University Research\\nEthics Committees (FM-RC-23-01-99).\\nInformed Consent Statement: Informed consent was obtained from all subjects involved in this\\nstudy (FM-RC-23-02-99).\\nData Availability Statement: The data presented in this study are available on request from the\\ncorresponding author. The data are not publicly available due to privacy restrictions.\\n'),\n",
       " Document(metadata={'source': 'data\\\\2. High Prevalence of Supplement Intake.pdf', 'file_path': 'data\\\\2. High Prevalence of Supplement Intake.pdf', 'page': 0, 'total_pages': 11, 'format': 'PDF 1.5', 'title': '', 'author': '', 'subject': '', 'keywords': '', 'creator': '', 'producer': 'iLovePDF', 'creationDate': '', 'modDate': 'D:20241021113904Z', 'trapped': ''}, page_content='nutrients\\nArticle\\nHigh Prevalence of Supplement Intake with a\\nConcomitant Low Information Quality among Swiss\\nFitness Center Users\\nSamuel Mettler 1,*, Joëlle Vera Bosshard 1, Dino Häring 1 and Gareth Morgan 2\\n1\\nDepartment of Health, Bern University of Applied Sciences, 3008 Bern, Switzerland;\\njoelle.bosshard@gmx.ch (J.V.B.); dino.haering@hotmail.com (D.H.)\\n2\\nDepartment of Elite Sport, Swiss Federal Oﬃce of Sport, 2532 Magglingen, Switzerland;\\nGareth.Morgan@baspo.admin.ch\\n*\\nCorrespondence: samuel.mettler@bfh.ch\\nReceived: 29 June 2020; Accepted: 21 August 2020; Published: 26 August 2020\\n\\x01\\x02\\x03\\x01\\x04\\x05\\x06\\x07\\x08\\n\\x01\\x02\\x03\\x04\\x05\\x06\\x07\\nAbstract: Background: The aim of this study was to screen the prevalence of supplement use in\\nSwiss ﬁtness center users and what information sources they consulted. Methods: Customers of\\n10 ﬁtness centers were screened with a quantitative questionnaire. Results: Eighty two percent\\nof the 417 ﬁtness center users consumed at least one supplement per week. Supplement intake\\ncorrelated with training frequency (rs = 0.253, p < 0.001). The most prevalent products were protein\\nsupplements (used by 49% of the study population), magnesium (34%), and multi-micronutrient\\nsupplements (31%). The average number of supplement servings per week among consumers was\\n17.1 (SD: 16.1, median: 11.0) and the average number of diﬀerent products used was 6.9 (SD: 4.4,\\nmedian: 6.0). The most frequently used information sources were the coach/trainer (28%), the website\\nof the supplement seller (26%), and training peers (24%). Thirty seven percent were informed or\\ninformed themselves about potential risks associated with the supplement used. The leading reasons\\nfor selecting the information source were the desire for scientiﬁc-based information followed by\\nthe education level of the informing person. Conclusions: A high prevalence of supplement intake\\namong Swiss ﬁtness center users was associated with a low level of information quality and a low\\nprevalence of risk information. A discrepancy between a desire for high quality evidence-based\\ninformation and a contrasting behavior was detected.\\nKeywords: supplements; information source; ﬁtness athletes; exercise; consumer behavior; risk\\nbehavior; risk perception\\n1. Introduction\\nAthletes are generally advised to follow a balanced diet adapted to the speciﬁc requirements of\\ntheir individual sport [1,2]. An increase in training volume requires an appropriate change in energy\\nand nutrient intake [3]. Additionally, many athletes add various supplements to their diet for a variety\\nof reasons [4,5]. Health-related reasons for taking supplements may apply to the general as well as to\\nthe athletic population. Additional factors, e.g., related to performance or training adaptation, may be\\npresent among athletes. Therefore, it is not surprising to ﬁnd a higher prevalence of supplement use\\namong athletes compared to the general population [4,6].\\nThere are diﬀerent deﬁnitions for supplements used in sport. Sports supplements are often\\ncategorized into sports food (i.e., products delivering macronutrients and energy), performance\\nsupplements (supplements which directly or indirectly inﬂuence performance), and medical\\nsupplements (to prevent or treat nutritional deﬁciencies) [7].\\nNutrients 2020, 12, 2595; doi:10.3390/nu12092595\\nwww.mdpi.com/journal/nutrients\\n'),\n",
       " Document(metadata={'source': 'data\\\\2. High Prevalence of Supplement Intake.pdf', 'file_path': 'data\\\\2. High Prevalence of Supplement Intake.pdf', 'page': 1, 'total_pages': 11, 'format': 'PDF 1.5', 'title': '', 'author': '', 'subject': '', 'keywords': '', 'creator': '', 'producer': 'iLovePDF', 'creationDate': '', 'modDate': 'D:20241021113904Z', 'trapped': ''}, page_content='Nutrients 2020, 12, 2595\\n2 of 13\\nEven potentially useful supplements may cause negative health or performance outcomes when\\nused inappropriately [7].\\nFurthermore, there are many supplements on the market which lack\\nevidence for any potentially useful health or performance beneﬁt [8]. The regulations related to dietary\\nsupplements diﬀer signiﬁcantly across countries and many supplements on the international market\\nfail to meet expected safety and eﬃciency standards [5,7–11]. Supplements may be contaminated\\nwith a large array of substances, including non-declared anabolic steroids, stimulants or heavy\\nmetals [8,10–12]. Unsubstantiated claims made by manufacturers may misguide athletes and expose\\nthem to harmful health eﬀects [7,8,11].\\nScreening studies from around the world indicate the prevalence of supplement use among\\ndiﬀerent athlete populations to be variable [4]. Limited data are available for central Europe and in\\nparticular the German speaking area, i.e., Germany, Switzerland, and Austria [4]. Representative\\ngeneral population data from Germany indicate that 28% use dietary supplements [13], with a higher\\nprevalence among women (31%) compared to men (24%). A comparable prevalence (26%) was\\nreported from a cohort in Switzerland [6]. Other countries such as the US report higher prevalence rates\\ncompared to the Swiss or German data [14], suggesting variability in the prevalence of supplement use\\nacross countries.\\nSurveys generally indicate an increasing prevalence of supplement intake with age and in\\nathletes compared to the general population [4,6,10,13]. Among athletes, there is often an increased\\nprevalence with increasing training volume and higher performance level, i.e., elite vs. sub-elite or\\nrecreational athletes [4,5,15,16]. Braun et al. have published prevalence data among young German\\nelite athletes [16]. There are no supplementation data available from any kind of athletic or ﬁtness\\npopulations in Switzerland. The sports community is a diverse group including recreational gym-goers\\nto international-level elite athletes with likely diverse supplementation behaviors. Recreational health\\nand ﬁtness center users are probably one of the largest groups. About 16% of the Swiss Population is a\\nmember of a private ﬁtness center and holds a subscription for regular training sessions [17]. The goal\\nof the present study was to collect data about the prevalence of supplement use in ﬁtness center users\\nin Switzerland. In addition, motivation for supplement intake and information sources were examined.\\n2. Materials and Methods\\n2.1. Recruitment and Ethics\\nTen ﬁtness centers in the Bern region of Switzerland participated in this study (three being\\nbranches of the same company) and agreed to have their customers surveyed for the purpose of this\\nstudy. The participating centers included low budget as well as medium to high priced “premium”\\ncenters and represented a broad range of customers. Data collection was performed in February 2019\\nwith a quantitative questionnaire. The study sample was deﬁned as all customers entering the ﬁtness\\ncenters during screening time. Screenings were held according to study team access to the diﬀerent\\nﬁtness centers. In four ﬁtness centers screenings were held over one day (8 h per day). In the other\\nﬁtness centers screening occurred over two evenings (3 h per evening). Diﬀerent weekdays were\\nselected. Customers entering the ﬁtness centers were informed both orally and in writing about the\\nstudy goal. They were also notiﬁed that participation was voluntary, that placing the anonymous\\nquestionnaire in the anonymous collecting box was considered as informed consent to participate in the\\nsurvey, and that any question may be skipped or incomplete questionnaire returned. The collecting box\\nwas opened by the research team at the end of each screening day. All data were collected anonymously.\\nThe study was carried out in accordance with the Declaration of Helsinki.\\n2.2. Inclusion and Exclusion Criteria\\nInclusion criteria were: All customers who entered the ﬁtness centers during the time window of\\nthe screening in the respective ﬁtness center and who were at least 18 years old.\\n'),\n",
       " Document(metadata={'source': 'data\\\\2. High Prevalence of Supplement Intake.pdf', 'file_path': 'data\\\\2. High Prevalence of Supplement Intake.pdf', 'page': 2, 'total_pages': 11, 'format': 'PDF 1.5', 'title': '', 'author': '', 'subject': '', 'keywords': '', 'creator': '', 'producer': 'iLovePDF', 'creationDate': '', 'modDate': 'D:20241021113904Z', 'trapped': ''}, page_content='Nutrients 2020, 12, 2595\\n3 of 13\\nExclusion criteria were: Age under 18 years. Empty questionnaires and questionnaires of subjects\\nunder 18 years of age were excluded. Partially completed questionnaires were included, provided\\nthe second section (supplement intake) was completed. If the supplement intake section was not\\ncompleted the questionnaire was excluded.\\nLanguage restriction: The questionnaire was available in German only, representing the oﬃcial\\narea language and the corresponding language in the participating ﬁtness centers. A very small\\nminority of the customers might have been unable to participate due to language restrictions.\\n2.3. Questionnaire\\nThe quantitative questionnaire was divided into three sections on a single double-sided A4 sheet\\nof paper. In the ﬁrst section, categorical variables were screened, including gender, age group, training\\nfrequency per week (Table 1), and main training goals (i.e., support health, weight loss, body shaping,\\nbodybuilding, improve strength, improve endurance, improve sport speciﬁc performance, other\\nreasons). In the second section, the supplement use was screened by listing 25 predeﬁned substances\\nand product classes (Table 2). Spare lines were available to list “further” products not included in the\\nquestionnaire. For each product, intake frequency had to be indicated. The available categories were\\n“daily”, “several times per week”, “once a week”, “less than once a week”, “never”, and “don’t know”.\\nIn the last section, subjects were asked about their motivation to take the supplements, where they\\ninformed themselves about the supplements used, whether they were informed about potential side\\neﬀects or risks by their information source (yes or no) and what they considered to be important criteria\\nwhen selecting the particular information source(s). For these questions, a limited set of predeﬁned\\nanswers was presented (see the corresponding tables and ﬁgures in the result section) including an\\nopen answer to insert further individual responses. For some predeﬁned answers, a dependent open\\nquestion was added. For example, one answer for the question about the used information sources\\nwas “I took courses on the subject “. In this case, the participants were asked what kind of course they\\ncompleted. In order to limit the required time to ﬁll in the questionnaire and to optimize response rate\\nas much as possible, the questionnaire and the predeﬁned answers were intentionally limited to one\\nsingle double-sided page. Multiple answers were possible.\\nTable 1. Subject characteristics as percent and frequency (n) of the study population.\\n%\\nn\\nGender\\nMale\\n49\\n205\\nFemale\\n48\\n200\\nNot given\\n3\\n12\\nAge group [y]\\n18–30\\n47\\n197\\n31–45\\n23\\n97\\n46–60\\n15\\n61\\n>60\\n11\\n47\\nNot given\\n4\\n15\\nTraining\\nFrequency\\n[week−1]\\n<1\\n1\\n5\\n1–2\\n21\\n89\\n3–4\\n50\\n210\\n5–6\\n21\\n86\\nDaily or more\\n6\\n25\\nNot given\\n1\\n2\\n'),\n",
       " Document(metadata={'source': 'data\\\\2. High Prevalence of Supplement Intake.pdf', 'file_path': 'data\\\\2. High Prevalence of Supplement Intake.pdf', 'page': 3, 'total_pages': 11, 'format': 'PDF 1.5', 'title': '', 'author': '', 'subject': '', 'keywords': '', 'creator': '', 'producer': 'iLovePDF', 'creationDate': '', 'modDate': 'D:20241021113904Z', 'trapped': ''}, page_content='Nutrients 2020, 12, 2595\\n4 of 13\\nTable 2. Supplement intake by gender as percent and frequency (n).\\nTotal (n = 417)\\n2 % (n)\\nMen (n = 205)\\n% (n)\\nWomen (n = 200)\\n% (n)\\np (Gender)\\nConsumers 1\\n82.0 (332)\\n84.4 (173)\\n80.0 (159)\\n0.201\\nProtein powders and drinks\\n43.2 (180)\\n54.6 (112)\\n30.0 (60)\\n<0.001\\nMagnesium\\n33.7 (141)\\n30.2 (62)\\n36.5 (73)\\n0.182\\nMultivitamin and multimineral\\n31.4 (131)\\n32.2 (66)\\n29.5 (59)\\n0.557\\nVitamin D\\n24.0 (100)\\n21.5 (44)\\n25.5 (51)\\n0.338\\nSports drinks\\n22.3 (93)\\n30.7 (63)\\n13.0 (26)\\n<0.001\\nVitamin C\\n20.1 (84)\\n23.4 (48)\\n16.5 (32)\\n0.061\\nRecovery products\\n19.2 (80)\\n24.4 (50)\\n13.5 (27)\\n0.005\\nProtein bars\\n18.0 (73)\\n21.0 (43)\\n15.0 (30)\\n0.118\\nAmino acids (e.g., BCAA, glutamine)\\n17.3 (72)\\n22.0 (45)\\n12.0 (24)\\n0.008\\nEnergy drinks\\n14.4 (60)\\n14.6 (30)\\n14.5 (29)\\n0.969\\nCaﬀeine (without coﬀee)\\n13.2 (55)\\n16.1 (33)\\n9.5 (19)\\n0.047\\nCreatine\\n12.9 (54)\\n22.4 (46)\\n3.5 (7)\\n<0.001\\nIron\\n11.0 (46)\\n10.2 (17)\\n14.0 (28)\\n0.068\\nEnergy bars\\n8.6 (36)\\n10.7 (22)\\n6.5 (13)\\n0.130\\nPlant extracts\\n7.9 (33)\\n10.2 (17)\\n7.5 (15)\\n0.767\\nL-Carnitine\\n7.4 (31)\\n9.8 (20)\\n5.0 (10)\\n0.068\\nBeta-Alanine\\n4.1 (17)\\n5.4 (11)\\n1.5 (3)\\n0.033\\nAlkalizing mineral products\\n3.4 (14)\\n2.9 (6)\\n3.5 (7)\\n0.744\\nProbiotics\\n3.1 (13)\\n2.4 (5)\\n3.5 (7)\\n0.529\\nCarbohydrate gels\\n2.2 (9)\\n3.4 (7)\\n0.5 (2)\\n0.099\\nNitrate/Beetroot juice\\n1.9 (8)\\n1.5 (3)\\n2.5 (5)\\n0.454\\nFat-Burn Products\\n1.7 (7)\\n2.0 (4)\\n1.5 (3)\\n0.728\\nBicarbonate/Citrate\\n0.7 (3)\\n0.5 (1)\\n0.5 (1)\\n0.968\\nHMB\\n0.5 (2)\\n0.5 (1)\\n0.0 (0)\\n0.323\\nSteroids\\n0.2 (1)\\n0.0 (0)\\n0.0 (0)\\n-\\nOther\\n4.1 (17)\\n4.4 (9)\\n4.0 (8)\\n0.845\\nProduct/substances are listed in order of their intake prevalence. 1 Consumed at least one supplement at least once\\nper week. 2 Including men, women, and subjects with non-declared gender.\\nThe questionnaire inquired about current supplement intake, deﬁned as the last four weeks.\\nSubjects were classiﬁed as consumers if they consumed at least one supplement at least once a week.\\nParticipants with a more sporadic intake, i.e., “less than once a week”, “never” or “don’t know” were\\nclassiﬁed as non-consumers. A pretest of the questionnaire was performed with 15 ﬁtness center users\\nto test for applicability and understandability of the questionnaire. Reliability was tested by asking\\nthe same subjects a week later to ﬁll in the same questionnaire again. These questionnaires were not\\nincluded in the analysis.\\n2.4. Statistics\\nDescriptive data analysis was performed with Microsoft Excel 365 ProPlus (2019). IBM SPSS\\nStatistics 26.0.0.0 was used to perform Chi-Square and Spearman rank correlation tests. A Chi-Square\\ntest was used to identify diﬀerences between supplement intake prevalence between genders and age\\ngroups. For supplement intake prevalence among age groups, logistical regression analysis was used\\nfor post-hoc analysis in the case of a signiﬁcant Chi-Square test. Bonferroni adjustment was used to\\naccount for multiple comparisons. To estimate the average number of supplement servings per week,\\nthe intake frequency of all products was summed up. For this reason, the assigned servings per week\\nwere seven for “daily intake”, 3.5 for “several times per week”, one for “once a week”, 0.5 for “less\\nthan once a week”, and zero for the further ratings.\\nIn order to compare our study population to the total client base of the screened ﬁtness centers\\nwe compared the average age of our study sample with the corresponding population mean. Due to\\ndata privacy reasons the average age of their total client base was the only information we got from all\\n'),\n",
       " Document(metadata={'source': 'data\\\\2. High Prevalence of Supplement Intake.pdf', 'file_path': 'data\\\\2. High Prevalence of Supplement Intake.pdf', 'page': 4, 'total_pages': 11, 'format': 'PDF 1.5', 'title': '', 'author': '', 'subject': '', 'keywords': '', 'creator': '', 'producer': 'iLovePDF', 'creationDate': '', 'modDate': 'D:20241021113904Z', 'trapped': ''}, page_content='Nutrients 2020, 12, 2595\\n5 of 13\\nﬁtness centers. Average age for our study population was calculated as average age of the selected age\\ncategory or as 68 y for the category >60 y of age. Otherwise, age was handled as a categorical variable.\\nIn order to calculate the response rate, we tracked the number of all customers entering the\\nﬁtness center during the screening phase. The response rate was calculated by dividing the number\\nof returned questionnaires (without empty or excluded questionnaires) by the numbers of counted\\ncustomers entering the ﬁtness center during the screening phase.\\n3. Results\\n3.1. Subjects\\nIn total, 417 ﬁtness center users were included in the analysis, representing men (49%), women,\\nand diﬀerent age groups. Training frequencies ranged from one to two training sessions a week (21%)\\nto daily sessions (6%, Table 1). The average response rate was 59%. Average client age in the respective\\nﬁtness center databases (38 y) was comparable to the average age of the study sample subjects (37 y).\\n3.2. Supplement Intake\\nOverall, 82% of all ﬁtness center users consumed at least one supplement per week and were thus\\nclassiﬁed as consumers (Tables 2 and 3). The most prevalent products used were protein powders and\\ndrinks (used by 43% of the study population), magnesium (34%), and multi-micronutrient supplements\\n(31%). If solid protein bars and liquid protein products (protein powder and drinks) are combined,\\n49% of all subjects consumed at least one of these protein supplements. Protein supplements were\\nsigniﬁcantly (p < 0.001) more prevalent among men (62%) than women (35%). The average number of\\nsupplement servings per week among consumers was 17.1 (SD: 16.1, median: 11.0) and the average\\nnumber of diﬀerent products used was 6.9 (SD: 4.4, median: 6.0). Among consumers, 31%, 17%,\\nand 10% of the ﬁtness center users consumed more than 20, 30, or 40 supplement servings per week,\\nincluding one subject taking 100 supplements per week while training less than once a week.\\nThe number of supplement servings per week showed a weak positive correlation (p < 0.001) with\\ntraining frequency (Figure 1).\\nFigure 1. Supplement intake vs. training frequency. The scatter density plot and spearman rank\\ncorrelation (mean and 95% conﬁdence interval) of supplement servings per week vs. training frequency\\ngive an rs = 0.253 (p < 0.001).\\n'),\n",
       " Document(metadata={'source': 'data\\\\2. High Prevalence of Supplement Intake.pdf', 'file_path': 'data\\\\2. High Prevalence of Supplement Intake.pdf', 'page': 5, 'total_pages': 11, 'format': 'PDF 1.5', 'title': '', 'author': '', 'subject': '', 'keywords': '', 'creator': '', 'producer': 'iLovePDF', 'creationDate': '', 'modDate': 'D:20241021113904Z', 'trapped': ''}, page_content='Nutrients 2020, 12, 2595\\n6 of 13\\nTable 3. Supplement intake prevalence by age group.\\n18–30 (n = 197)\\n% (n)\\n31–45 (n = 97)\\n% (n)\\n46–60 (n = 61)\\n% (n)\\n>60 (n = 47)\\n% (n)\\np (Age)\\nConsumers 1\\n87.3 (172) d\\n79.4 (77)\\n82.0 (50)\\n66.0 (31) a\\n0.006\\nProtein powders and drinks\\n55.8 (110) c,d\\n45.4 (44) c,d\\n19.6(12) a,b\\n14.9 (7) a,b\\n<0.001\\nMagnesium\\n35.0 (69)\\n29.9 (29)\\n37.7 (23)\\n31.9 (15)\\n0.733\\nMultivitamin and multimineral\\n33.5 (66)\\n27.8 (27)\\n31.1 (19)\\n31.9 (15)\\n0.808\\nVitamin D\\n23.9 (47)\\n21.6 (21)\\n21.3 (13)\\n25.5 (12)\\n0.931\\nSports drinks\\n24.4 (48)\\n18.6 (18)\\n32.8 (20) d\\n6.4 (3) c\\n0.007\\nVitamin C\\n20.8 (41)\\n18.6 (18)\\n19.7 (12)\\n17.0 (8)\\n0.930\\nRecovery products\\n27.4 (54) d\\n15.5 (15)\\n11.5 (7)\\n4.3 (2) a\\n<0.001\\nProtein bars\\n18.8 (37)\\n18.5 (18)\\n24.5 (15)\\n8.5 (4)\\n0.200\\nAmino acids (e.g., BCAA, glutamine)\\n24.8 (49) c\\n14.4 (14)\\n6.5 (4) a\\n8.5 (4)\\n0.001\\nEnergy drinks\\n22.8 (45) b,c\\n8.2 (8) a\\n6.5 (4) a\\n2.1 (1)\\n<0.001\\nCaﬀeine (without coﬀee)\\n19.8 (39)\\n9.3 (9)\\n4.9 (3)\\n4.3 (2)\\n0.001 £\\nCreatine\\n19.8 (39) c\\n11.3 (11)\\n3.3 (2) a\\n4.3 (2)\\n0.001\\nIron\\n15.2 (30)\\n9.3 (9)\\n8.2 (5)\\n2.1 (1)\\n0.046 $\\nEnergy bars\\n8.6 (17)\\n7.2 (7)\\n13.1 (8)\\n6.4 (3)\\n0.555\\nPlant extracts\\n10.7 (21)\\n6.1 (6)\\n6.6 (4)\\n4.3 (2)\\n0.349\\nL-Carnitine\\n8.1 (16)\\n6.2 (6)\\n11.5 (7)\\n4.3 (2)\\n0.500\\nBeta-Alanine\\n5.1 (10)\\n4.1 (4)\\n1.6 (1)\\n2.1 (1)\\n0.589\\nAlkalizing mineral products\\n2.0 (4)\\n6.2 (6)\\n1.6 (1)\\n4.3 (2)\\n0.234\\nProbiotics\\n3.0 (6)\\n3.1 (3)\\n4.9 (3)\\n2.1 (1)\\n0.858\\nCarbohydrate gels\\n2.0 (4)\\n2.1 (2)\\n3.3 (2)\\n0.0 (0)\\n0.687\\nNitrate/Beetroot juice\\n1.0 (2)\\n1.0 (1)\\n1.6 (1)\\n6.4 (3)\\n0.078\\nFat-Burn Products\\n3.0 (6)\\n1.0 (1)\\n0.0 (0)\\n0.0 (0)\\n0.245\\nBicarbonate/Citrate\\n0.0 (0)\\n2.1 (2)\\n1.6 (1)\\n0.0 (0)\\n0.190\\nHMB\\n0.5 (1)\\n1.0 (1)\\n0.0 (0)\\n0.0 (0)\\n0.778\\nSteroids\\n0.0 (0)\\n1.0 (1)\\n0.0 (0)\\n0.0 (0)\\n0.369\\nOther\\n5.5 (11)\\n1.0 (1)\\n3.3 (2)\\n2.1 (1)\\n0.238\\nFor readability, product/substances are sorted according to Table 2; 1 Consumed at least one supplement at least once\\nper week; $ After a Bonferroni adjustment no signiﬁcant diﬀerences remained. Without a Bonferroni adjustment\\nthe age group 18–30 diﬀered from the age group >60 (unadjusted p = 0.040); £ After a Bonferroni adjustment no\\nsigniﬁcant diﬀerences remained. Without a Bonferroni adjustment the age group 18–30 diﬀered from all other age\\ngroups: Unadjusted p = 0.025 (against age group 30–45), p = 0.012 (45–60), p = 0.021 (>60); a signiﬁcantly diﬀerent\\nfrom age group 18–30; b signiﬁcantly diﬀerent from age group 30–45; c signiﬁcantly diﬀerent from age group 45–60;\\nd signiﬁcantly diﬀerent from age group >60.\\n3.3. Training Goals\\nThe three most important training goals of the participating ﬁtness center users were improving\\nhealth, improving strength, and body shaping (Figure 2). Analysis by age showed obvious age eﬀects\\nfor two training goals. Improving health was named by 59%, 60%, 75%, and 89% as a training goal\\namong the four age groups beginning from the youngest to the oldest group. On the other hand, body\\nshaping was named by 69%, 55%, 41%, and 17% among the four age groups.\\n'),\n",
       " Document(metadata={'source': 'data\\\\2. High Prevalence of Supplement Intake.pdf', 'file_path': 'data\\\\2. High Prevalence of Supplement Intake.pdf', 'page': 6, 'total_pages': 11, 'format': 'PDF 1.5', 'title': '', 'author': '', 'subject': '', 'keywords': '', 'creator': '', 'producer': 'iLovePDF', 'creationDate': '', 'modDate': 'D:20241021113904Z', 'trapped': ''}, page_content='Nutrients 2020, 12, 2595\\n7 of 13\\n \\nFigure 2. Training goals. g: Indicates signiﬁcant gender eﬀect (p < 0.05). Multiple answers were possible.\\n3.4. Reasons for Supplement Intake\\nThe three most important reasons to take supplements were muscle building (49%), improving\\nhealth (47%), and improving sport-speciﬁc performance (28%) (Figure 3).\\nFigure 3. Reasons for supplement use. g: Indicates signiﬁcant gender eﬀect (p < 0.05). Multiple answers\\nwere possible.\\n3.5. Information Sources\\nRegarding used information sources, the top three were the coach/trainer (28%), the website of\\nthe supplement seller (26%), and training peers (24%) (Figure 4). On average 2.2 information sources\\nwere indicated by the ﬁtness center users. The question regarding information about risks and side\\neﬀects was answered by 315 subjects. Only 117 (37%) of these had received information regarding\\npotential risks and side eﬀects of the consumed supplements. The three leading information sources\\nfor risks and side eﬀects were the internet, physicians, and coaches/trainers. When subjects answered\\nthat they were the source of information themselves, only two of them had an accredited (para)medical\\n'),\n",
       " Document(metadata={'source': 'data\\\\2. High Prevalence of Supplement Intake.pdf', 'file_path': 'data\\\\2. High Prevalence of Supplement Intake.pdf', 'page': 7, 'total_pages': 11, 'format': 'PDF 1.5', 'title': '', 'author': '', 'subject': '', 'keywords': '', 'creator': '', 'producer': 'iLovePDF', 'creationDate': '', 'modDate': 'D:20241021113904Z', 'trapped': ''}, page_content='Nutrients 2020, 12, 2595\\n8 of 13\\neducation (i.e., registered dietitian or physician). The most prevalent answers were diﬀerent types of\\nﬁtness instructor courses (13) and sport studies (5).\\nFigure 4. Indicated relevant information sources about supplements. Multiple answers were possible.\\ng: Indicates signiﬁcant gender eﬀect (p < 0.05).\\nLeading reasons for selecting the speciﬁc information sources were the desire for science-based\\ninformation, followed by the “education level of the informing person”, and “easy access” to the\\ninformation (Figure 5).\\nFigure 5. Reasons for information source selection. No signiﬁcant gender eﬀects (p < 0.05).\\n'),\n",
       " Document(metadata={'source': 'data\\\\2. High Prevalence of Supplement Intake.pdf', 'file_path': 'data\\\\2. High Prevalence of Supplement Intake.pdf', 'page': 8, 'total_pages': 11, 'format': 'PDF 1.5', 'title': '', 'author': '', 'subject': '', 'keywords': '', 'creator': '', 'producer': 'iLovePDF', 'creationDate': '', 'modDate': 'D:20241021113904Z', 'trapped': ''}, page_content='Nutrients 2020, 12, 2595\\n9 of 13\\nAmong all subjects, 37% were informed or informed themselves about potential risks associated\\nwith the supplement used. There was no signiﬁcant gender (p = 0.36) or age (p = 0.52) eﬀect regarding\\ninformation obtained about risks.\\n4. Discussion\\n4.1. Supplement Intake\\nThe aim of this study was to gain insight into the prevalence of supplement intake and used\\ninformation sources among recreational ﬁtness center users in Switzerland. Overall, 82% of the ﬁtness\\ncenter users consumed supplements. This prevalence is higher compared to a general population\\nsample in Switzerland, where only 26% used supplements [6]. It is also higher in comparison with\\nﬁtness athlete populations from other countries and cultural regions [4,18–20], and even compared\\nto reports from some elite athlete populations [4,16]. The deﬁnition of supplements and supplement\\nuse diﬀers across studies, i.e., intake prevalence depends on whether or not subjects are asked about\\ntheir current intake, which is often deﬁned as the last four weeks as in the present study [4,16].\\nWhen subjects are asked for longer timeframes, the prevalence usually increases [16,21]. Prevalence\\nmight be inﬂuenced by the sport and training goals of the speciﬁc population being screened [16],\\ne.g., among body builders, prevalence rates of 100% were reported [22]. However, the few subjects\\nindicating body building as their training goal in our study cannot explain our results. The relatively\\nhigh purchasing power in Switzerland might also contribute to the comparatively high prevalence of\\nsupplement use, or is at least not a barrier.\\nThe median number of weekly supplement servings indicated that 50% consumed more than\\n11 servings per week, while there was a subset of consumers with quite substantial supplement use,\\ni.e., 10% took >40 supplements per week. The number of supplement servings per day or week has\\nusually not been reported in other studies. This might be explained by the fact that other studies\\nalso used categorical variables to assess supplement intake frequency. To calculate a summed-up\\nnumber of supplement servings, assumptions had to be made by allocating numbers to the categories.\\nThis is sometimes quite straightforward as for the categories “once a week” or “daily”, but may be\\naﬄicted with errors. Even for the seemingly straight forward category “daily”: If one serving per day\\nis the assumption, this might be an underestimate as there was no category for a more frequent intake.\\nSomebody taking several servings a day still could only mark “daily” intake. Hence, the calculated\\nnumber of servings could likely be underestimated. Nevertheless, the number may represent an\\neducated guess of the magnitude of supplement intake, which seems to be even more relevant than the\\nmere prevalence of supplements in use. Future studies should focus more on this parameter to obtain\\nmore data about the scale of supplement intake and not only about the prevalence of supplement users,\\nno matter the extent of use. Our data indicate that a signiﬁcant part of the supplement consumers is\\nsupplementing on a large scale, i.e., 31% use at least 20 supplement servings per week and 10% use 40\\nor more supplement servings per week.\\nProtein supplements represented the most prevalent products, which is in line with other\\nsupplement screening studies [19,23,24]. In line with others [4], we reported a more prevalent protein\\nintake among men compared to women. This correlates with the more prevalent training goal of muscle\\nand strength gain among men. We detected more prevalent protein and creatine supplementation\\namong younger compared to older ﬁtness center users, whereas the opposite was found for vitamin\\nsupplementation. Other authors made similar observations [23] and it might reﬂect the diﬀerent\\ntraining goals among age groups, i.e., more focus on strength and muscles among the younger and\\nmore focus on health among the older age groups.\\nComparable to other studies [4], we detected a positive correlation between training frequency\\nand supplement usage. Nevertheless, the correlation is weak and is deﬁnitely not a predictor at the\\nindividual level. The subject with the highest supplement intake of 100 weekly servings was training\\nonly once a week.\\n'),\n",
       " Document(metadata={'source': 'data\\\\2. High Prevalence of Supplement Intake.pdf', 'file_path': 'data\\\\2. High Prevalence of Supplement Intake.pdf', 'page': 9, 'total_pages': 11, 'format': 'PDF 1.5', 'title': '', 'author': '', 'subject': '', 'keywords': '', 'creator': '', 'producer': 'iLovePDF', 'creationDate': '', 'modDate': 'D:20241021113904Z', 'trapped': ''}, page_content='Nutrients 2020, 12, 2595\\n10 of 13\\n4.2. Information Sources\\nAlthough athletes are generally not advised to consult friends, training peers or coaches as primary\\ninformation sources about supplements [25], the present study population declared trainer, coaches,\\nwebsites of supplement sellers, training peers, and family members or friends as the leading information\\nsources. Trainers’ and coaches’ nutrition knowledge may be inadequate and peer experience is also\\nunlikely to provide an evidence-based and individualized supplement regime [26–28]. Unfounded\\nendorsement or encouragement of supplement use by inﬂuential individuals in the athlete’s circle\\nsuch as coaches and training peers may also explain the relatively high supplement use in the present\\nstudy [8]. Unﬁltered information from shared online videos and websites is obviously an inﬂuential\\nsource as well. Physicians and registered dietitians do not seem to be a predominant information\\nsource, which is in line with other studies [24].\\nIt is very plausible that this behavior increases safety risks for athletes [25], and that these\\ninformation sources are insuﬃciently qualiﬁed or biased. Most supplements on the market are\\nof limited value for consumers [8] and it is highly unlikely that a supplement seller will post any\\ninformation that might curtail sales. Mislabeling and contamination of dietary supplements with\\nundeclared substances, i.e., anabolic steroids, pharmaceuticals, heavy metals or stimulants with\\nconcomitant health risks represents a widespread problem in the supplement market [5,8].\\nWe detected an obvious discrepancy between the study participants’ selected information sources\\nand their expectations regarding the information quality. The desire for evidenced-based information\\nwas in sharp contrast to the obviously nutritionally uneducated persons or entities chosen as primary\\ninformation sources.\\nThis discrepancy may have two distinct reasons. Either the subjects are aware of the mismatch,\\nbut they are unwilling to close the gap, because the chosen resources are easily available and mostly\\nfree of charge (internet information, colleagues or the ﬁtness trainer provides nutrition and supplement\\nrecommendations as a side activity). Alternatively, the subjects are not aware of the mismatch and are\\ntherefore not able to bring their quality expectations in line with their behavior. This would indicate\\nthat people are largely unable to distinguish evidence-based information and educated professionals\\nfrom nutritionally insuﬃciently educated information sources such as ﬁtness instructors, peers or\\nsupplier websites. This hypothesis might be supported by the observation that physiotherapists are\\nused nearly as often as sources of information as dietitians or nutritionists, although there is obviously\\na dramatic nutritional education diﬀerence between these two paramedical professions.\\nThose who designated themselves as being educated indicated, with few exceptions, courses that\\nwould not qualify somebody to provide substantiated nutrition and supplementation advice. On the\\none hand these persons might overestimate their own degree of knowledge and power of judgment.\\nAt the same time, these same individuals often serve as primary information sources for athletes\\n(i.e., ﬁtness trainers working in the ﬁtness centers); customers obviously accept them as valuable\\ninformation source.\\nThe Dunning-Kruger eﬀect refers to a cognitive bias in which individuals with a low level of\\nknowledge in a particular subject mistakenly assess their knowledge or ability as greater than it is [29].\\nThis eﬀect may likely be attributed to the subjects who designated themselves as being educated in the\\nﬁeld, though the vast majority of them had no more than a few hours of nutrition training. In addition,\\nit may be that personal experience with a product is mistaken for knowledge. This may relate to family\\nmembers, friends, and training peers being accepted as trusted information sources.\\nWe may also speculate about so-called authority bias, the tendency to attribute greater accuracy\\nto the opinion of an authority ﬁgure, unrelated to its content [30]. This may explain why ﬁtness\\ninstructors or physiotherapists are so often considered comparable to qualiﬁed dietitians.\\nIt becomes clear that taken together (family members, friends, and training peers), the predominant\\ngroup of inﬂuential individuals regarding dietary supplementation is completely unqualiﬁed medically.\\nIn this case, it is likely that the trust that has been established in these individuals is mistaken for\\nprofessional expertise.\\n'),\n",
       " Document(metadata={'source': 'data\\\\2. High Prevalence of Supplement Intake.pdf', 'file_path': 'data\\\\2. High Prevalence of Supplement Intake.pdf', 'page': 10, 'total_pages': 11, 'format': 'PDF 1.5', 'title': '', 'author': '', 'subject': '', 'keywords': '', 'creator': '', 'producer': 'iLovePDF', 'creationDate': '', 'modDate': 'D:20241021113904Z', 'trapped': ''}, page_content='Nutrients 2020, 12, 2595\\n11 of 13\\nConsequently, this study indicates signiﬁcant demand for identifying reliable information sources\\namongst our ﬁtness center users. In contrast to this study, a recent study with high level athletes\\naﬃliated with an Australian state-based sports institute indicated that nutritional and medical staﬀ\\nwere among the most inﬂuential sources of information regarding supplement use, while friends or\\nsupplement supplier information were rated as least inﬂuential [31]. This might indicate that athletes\\nin close contact with professional support might have and accept more inﬂuence from professional\\nsupport and might also be able to better diﬀerentiate between evidence-based professional advice\\nand lay information. Another reason might be the athlete’s performance level. An Australian study\\nreported that non-elite athletes are more likely to choose the internet and less likely to choose a dietitian\\nor nutritionist as primary information sources compared to elite athletes [32]. Overall, the internet\\n(47%), trainers (42%), and family/friends (37%) were the leading “top 3” information sources amongst\\na range of elite and non-elite Australian athletes. However, dietitians (41%) and nutritionists (37%)\\nwere also frequently named in the ‘top 3’ information sources [32]. This is diﬀerent to our gym-going\\nhealth and ﬁtness athletes where dietitians and nutritionists together were named by just 5.7%. As the\\nathletic level of our gym-goers was very likely even lower than the non-elite Australian athletes, the\\nobservation that the level of athleticism might be one possible predictor for poor information source\\nchoice, would be supported by our data.\\nThe low percentage (37%) of the study population who informed themselves or were informed\\nabout risk factors associated with dietary supplement intake may also be a consequence of the largely\\nuneducated or unqualiﬁed information sources considered. Importantly, we only asked whether\\nor not information about the risks had been given. We did not evaluate whether the information\\nwas appropriate.\\nIf the information source about supplement intake risk was indicated by the\\nsubjects, sources such as the Internet, YouTube, and ﬁtness instructors were again frequently named.\\nConsequently, it is likely that many of the 37% were informed in an unfounded manner regarding risk\\nfactors. Therewith, this study clearly indicates insuﬃcient safety knowledge among these product\\nusers and a need for broad information dissemination about potential risks associated with dietary\\nsupplement use.\\nAlthough the questionnaire was not designed to evaluate the appropriateness of supplement\\nuse, there were several indications that supplements were used inappropriately. On the one hand,\\nineﬀective supplements such as fat burning products were used. At the same time, potentially eﬀective\\nsupplements such as creatine or beta-alanine were used only once a week, which cannot be eﬀective [9],\\nindicating random supplement use. This may be a further consequence of insuﬃcient knowledge\\namong the study population. Moreover, excessive use of supplements such as 100 supplement servings\\nper week is rather unlikely to reﬂect a targeted supplement use.\\n4.3. Limitations\\nCertainly, this study has some limitations. Firstly, we could only screen a limited number of\\nﬁtness centers. Secondly, the overall response rate of 59% did not exclude a certain selection bias.\\nNevertheless, we managed to include more subjects than many other studies [4] and the available\\nindicator (average age) does not speak against the hypothesis that the study population might more\\nor less represent the population of the screened ﬁtness centers. Furthermore, the questionnaire was\\nintentionally reduced to one two-sided A4 paper in order to keep it simple and short and with the\\nintention to focus on return rate rather than on comprehensiveness. Therefore, the number of questions\\nand the number of predeﬁned answers per question were limited. This might have inﬂuenced the\\nanswers to some degree.\\n5. Conclusions\\nIn conclusion, this study indicates a high prevalence of supplement use among Swiss ﬁtness center\\nusers. The high use was associated with a low level of information quality. We detected a striking\\ndiscrepancy between an obvious desire for high quality evidence-based information and a blatant\\n')]"
      ]
     },
     "execution_count": 23,
     "metadata": {},
     "output_type": "execute_result"
    }
   ],
   "source": [
    "docs"
   ]
  },
  {
   "cell_type": "code",
   "execution_count": 14,
   "metadata": {},
   "outputs": [
    {
     "data": {
      "text/plain": [
       "26"
      ]
     },
     "execution_count": 14,
     "metadata": {},
     "output_type": "execute_result"
    }
   ],
   "source": [
    "len(docs)"
   ]
  },
  {
   "cell_type": "code",
   "execution_count": 15,
   "metadata": {},
   "outputs": [],
   "source": [
    "from langchain_text_splitters import RecursiveCharacterTextSplitter\n",
    "\n",
    "\n",
    "text_splitter = RecursiveCharacterTextSplitter(chunk_size=1000, chunk_overlap=100)\n",
    "\n",
    "chunks = text_splitter.split_documents(docs)"
   ]
  },
  {
   "cell_type": "code",
   "execution_count": 16,
   "metadata": {},
   "outputs": [
    {
     "data": {
      "text/plain": [
       "(26, 110)"
      ]
     },
     "execution_count": 16,
     "metadata": {},
     "output_type": "execute_result"
    }
   ],
   "source": [
    "len(docs), len(chunks)"
   ]
  },
  {
   "cell_type": "code",
   "execution_count": 17,
   "metadata": {},
   "outputs": [
    {
     "data": {
      "text/plain": [
       "(4340, 981)"
      ]
     },
     "execution_count": 17,
     "metadata": {},
     "output_type": "execute_result"
    }
   ],
   "source": [
    "len(docs[0].page_content), len(chunks[0].page_content)"
   ]
  },
  {
   "cell_type": "code",
   "execution_count": 18,
   "metadata": {},
   "outputs": [
    {
     "data": {
      "text/plain": [
       "(969, 294)"
      ]
     },
     "execution_count": 18,
     "metadata": {},
     "output_type": "execute_result"
    }
   ],
   "source": [
    "import tiktoken\n",
    "\n",
    "encoding = tiktoken.encoding_for_model(\"gpt-4o-mini\")\n",
    "\n",
    "len(encoding.encode(docs[0].page_content)), len(encoding.encode(chunks[0].page_content))"
   ]
  },
  {
   "cell_type": "code",
   "execution_count": 24,
   "metadata": {},
   "outputs": [],
   "source": [
    "from langchain_ollama import OllamaEmbeddings\n",
    "\n",
    "import faiss\n",
    "from langchain_community.vectorstores import FAISS\n",
    "from langchain_community.docstore.in_memory import InMemoryDocstore"
   ]
  },
  {
   "cell_type": "code",
   "execution_count": 25,
   "metadata": {},
   "outputs": [],
   "source": [
    "embeddings = OllamaEmbeddings(model='nomic-embed-text', base_url=\"http://localhost:11434\")\n",
    "\n",
    "single_vector = embeddings.embed_query(\"this is some text data\")"
   ]
  },
  {
   "cell_type": "code",
   "execution_count": 26,
   "metadata": {},
   "outputs": [
    {
     "data": {
      "text/plain": [
       "768"
      ]
     },
     "execution_count": 26,
     "metadata": {},
     "output_type": "execute_result"
    }
   ],
   "source": [
    "len(single_vector)"
   ]
  },
  {
   "cell_type": "code",
   "execution_count": 27,
   "metadata": {},
   "outputs": [
    {
     "data": {
      "text/plain": [
       "(0, 768)"
      ]
     },
     "execution_count": 27,
     "metadata": {},
     "output_type": "execute_result"
    }
   ],
   "source": [
    "index = faiss.IndexFlatL2(len(single_vector))\n",
    "index.ntotal, index.d"
   ]
  },
  {
   "cell_type": "code",
   "execution_count": 28,
   "metadata": {},
   "outputs": [],
   "source": [
    "vector_store = FAISS(\n",
    "    embedding_function=embeddings,\n",
    "    index=index,\n",
    "    docstore=InMemoryDocstore(),\n",
    "    index_to_docstore_id={}\n",
    ")"
   ]
  },
  {
   "cell_type": "code",
   "execution_count": 31,
   "metadata": {},
   "outputs": [
    {
     "data": {
      "text/plain": [
       "<langchain_community.vectorstores.faiss.FAISS at 0x21665132800>"
      ]
     },
     "execution_count": 31,
     "metadata": {},
     "output_type": "execute_result"
    }
   ],
   "source": [
    "vector_store"
   ]
  },
  {
   "cell_type": "code",
   "execution_count": 29,
   "metadata": {},
   "outputs": [
    {
     "data": {
      "text/plain": [
       "110"
      ]
     },
     "execution_count": 29,
     "metadata": {},
     "output_type": "execute_result"
    }
   ],
   "source": [
    "len(chunks)"
   ]
  },
  {
   "cell_type": "code",
   "execution_count": 30,
   "metadata": {},
   "outputs": [],
   "source": [
    "ids = vector_store.add_documents(documents=chunks)"
   ]
  },
  {
   "cell_type": "code",
   "execution_count": 32,
   "metadata": {},
   "outputs": [
    {
     "data": {
      "text/plain": [
       "['c19de8e6-1a8b-469e-b624-04dfa2d21516',\n",
       " 'fca90196-fadd-4b96-8c3b-82c373c21e9c',\n",
       " '056137bc-b03d-40ab-becb-0f249efe3b1f',\n",
       " '6ef602cd-5dd7-466d-aec6-3e34b9775ef6',\n",
       " '89392327-a164-44d4-91f0-0c1c03cb1871',\n",
       " 'db5798a1-47c8-404f-8392-20bcbe79f52a',\n",
       " '1d632bd8-8a14-4f43-a000-8081dfefd11d',\n",
       " '24e1d22f-cd24-44b8-a8e4-19055b68e576',\n",
       " 'c54feee3-6b79-4b01-a6b1-129ac076469d',\n",
       " 'c20bafbf-60c0-41b0-9ab5-f92a9669b865',\n",
       " '50ab9a69-a268-4028-8058-7d673d03b572',\n",
       " '8935db04-b79f-403c-86a9-cf155ea82c0a',\n",
       " '7af61dba-7064-48db-804a-8c578ef4bbdc',\n",
       " 'a5ebfcb1-73eb-43cf-b739-98e2c18e670b',\n",
       " '09a61415-9c3a-41bf-807a-a23c3c8b589d',\n",
       " 'fd5415b4-5a3b-4c30-845a-b8fed7917a39',\n",
       " 'b43c2163-9047-4582-a56d-73ba29e403b4',\n",
       " 'a50a6933-f7e9-4d8d-8db8-2331bc4d6e9e',\n",
       " 'c426e937-bf98-46f8-a38c-a7681c2d2ad2',\n",
       " 'c394d418-c396-47c8-9458-6b7cc7bad2d5',\n",
       " 'fb2e46ee-e8e8-4299-ab38-41a367d0ca65',\n",
       " 'eb37c982-c31e-42de-bb3f-c1ade61597db',\n",
       " '698d235c-d6b9-4f93-818b-230304123a9a',\n",
       " 'aca43ab2-3f8e-47cf-ae87-e23948992cef',\n",
       " '2d3610ad-6cd0-496c-b47e-3c9f1d673641',\n",
       " '07deea30-3a51-492f-8a55-dce7690ea40f',\n",
       " 'f4e68a29-8283-4370-8270-c492da8baffe',\n",
       " '7a0aaa85-8743-4569-8c4a-23e89b1ac3bd',\n",
       " 'e3eb4c23-6428-4059-92f9-7d58efdcf3e1',\n",
       " 'd15d9ea4-20da-4b74-afec-d3a95bf9f7dd',\n",
       " 'f4779aa1-7ffd-4fb4-bff1-1ade9cfe0643',\n",
       " 'e3c168cc-d608-4d8e-b0aa-4202f5d303f1',\n",
       " '62f0fffc-d035-496e-9330-e4b19211e99d',\n",
       " 'a9350555-9959-4833-b815-7d2664df573f',\n",
       " 'abd8cb4c-a73c-4a17-bedb-9fc6b0cc7ae2',\n",
       " '5b0ac47f-a735-41ac-976c-03c6971ac8e2',\n",
       " '76a02662-511a-459e-97bd-d9817bf38bcc',\n",
       " '6eab29de-1455-467f-97b3-bb050d072c6f',\n",
       " '73a31c72-9438-4884-832e-6bedfa31815c',\n",
       " 'f95d8e7c-a298-4214-886b-fc2063805ab0',\n",
       " 'b99df31e-f01a-46b4-a27d-2e6dad6bbe1d',\n",
       " '0578431a-8020-4543-b654-d5491837f009',\n",
       " 'c582bc26-0ec2-4763-97b8-a40923dca043',\n",
       " '92e03580-1df6-4d1e-9cd6-555ce51f70bb',\n",
       " '4c5e0703-4215-4e45-ac59-68c71e362963',\n",
       " 'f3a0744b-11af-4b96-92cb-b954807ed67b',\n",
       " 'e4a9c915-385a-4935-9fd1-84a1333db1b0',\n",
       " '63ba609a-110b-451d-93ee-27f4c016fd7f',\n",
       " '3d16b8b2-e858-4581-95fb-77abce75c8a2',\n",
       " '635c764f-1a4e-45e6-8b29-c5132f64b503',\n",
       " 'b491ff8a-1b7f-4abe-9a8c-acf3b35ca54f',\n",
       " 'e8661b63-b73c-43c2-a3de-3a10cddaa1e9',\n",
       " '6af8b803-7020-420d-8abb-9bfe7167731d',\n",
       " '941aebe8-7da3-4eb4-9728-e53b4e9b2706',\n",
       " '19fa8b3f-0048-41a5-9517-8918f0bdb46e',\n",
       " 'f9c066c2-aacd-425a-bad2-fe3b685a0c9d',\n",
       " 'a5bc8267-7141-4f46-a31c-ff9ea85bf07e',\n",
       " 'f09cd184-a66a-4f32-9ef3-0cccec3c17b9',\n",
       " 'de3b89c4-babe-49f6-85b6-eed56ca8dd44',\n",
       " 'e12f7a50-9968-4b72-8614-65de70a84b7c',\n",
       " '5d0026fd-4ddf-4415-8e07-578d25419f00',\n",
       " '5e119967-2ed2-4f03-bdc4-56e85d361d97',\n",
       " 'f337d5f4-bb18-43e4-8b7a-fe4f862a41e4',\n",
       " 'c75187f8-11bb-4537-a971-944009329e9e',\n",
       " 'bc2bc689-a1d4-482e-a95b-1fe3ba2f1a07',\n",
       " '1f658bf3-2536-450f-b47f-69113106798c',\n",
       " 'f5273582-d5cb-42bd-9c58-d3863f75a528',\n",
       " '196462a7-d547-415b-b1cc-6035196b2e5d',\n",
       " '8a722a83-1493-4c15-ba7c-8a2d3dd0e85e',\n",
       " '65044da6-8d64-4d96-a75e-b8cc5506f30f',\n",
       " 'dd942752-2821-4abd-a3f3-231ca852897d',\n",
       " 'b6b29b7b-02a5-4db3-ab38-57b8b803a4c3',\n",
       " 'a8a0454c-06ad-4c56-9f21-37d6129ccd74',\n",
       " 'f87e7beb-02b3-48a6-a165-2fac4260f9f0',\n",
       " '2711bd68-5320-4f9d-812b-685dbd175033',\n",
       " '59c0e74b-0e76-46a5-a547-37e52efca33f',\n",
       " 'f70b9771-47b5-4cb9-8fa2-f193f2f3bd95',\n",
       " '5b2aed37-bb87-4c37-bfd6-b7ff8f536673',\n",
       " 'a103e72e-3e34-470f-b31e-889b769567f8',\n",
       " '62dae8ba-2c67-46ee-b65b-07827c3e5b90',\n",
       " '5c14b85f-7998-4f0b-a97d-9b33a6354c18',\n",
       " 'd2ba1427-a8e5-4980-b411-7fde9d214114',\n",
       " '649ca9b4-bcf5-4db7-9b62-fc12c3047f24',\n",
       " 'e0491591-87fd-48cf-9ce7-19e4f3d5a66b',\n",
       " 'a1469583-0436-410c-8a64-07f305cc49b9',\n",
       " '29310310-5b5a-4711-bbf3-59b419d4267d',\n",
       " 'a1d4620e-bc73-45ca-8557-867e12916f74',\n",
       " 'b4ad4460-ca71-4867-90b4-83ac61e854cf',\n",
       " 'ad0a2dee-f105-480e-8ba0-757efd4ecf0c',\n",
       " '317683ee-e066-4481-91fa-53c85330e2be',\n",
       " 'b387cbfa-3b7b-4b7b-80a4-559fd11717b2',\n",
       " 'f6d17465-498c-4edb-a792-caa61cae6121',\n",
       " 'd75c6f41-7a11-44a1-a9b6-56e6b1494155',\n",
       " '703d71cd-4dc5-4f95-8b2f-2b6c316fb82b',\n",
       " '7afcfc4e-a197-4e27-8a44-1a86a67a8344',\n",
       " '35ac9efe-5c7e-4e9b-b69b-768d43fcb5b6',\n",
       " '353ddb00-9152-4689-9408-62663e3a5eb5',\n",
       " '9b14a817-5db0-48e7-9149-10c880761ade',\n",
       " 'b2f80b96-f1ed-4655-8d2c-f5f55341db69',\n",
       " '44c7c34e-c127-4778-bab9-ea6fed7ca533',\n",
       " 'c161e54f-928c-40be-99a9-3d12752ebe56',\n",
       " 'd7dbbc47-467a-46ff-85f7-b5341d674868',\n",
       " '1c2b500e-8213-49d4-8e3a-e2c69f3d373b',\n",
       " 'b0d4fde4-bec8-478e-948a-e6812e56310b',\n",
       " '9e5b32d1-2a4a-4cf7-991c-b08af61f9469',\n",
       " '5e602139-c043-41c5-a700-cf62143e3870',\n",
       " '6e1c2ef5-3fc3-4f9f-9d6f-3d25abaf82a7',\n",
       " '765d43f0-2fca-425b-a6f1-1fcb5b618116',\n",
       " '9da1c0eb-077f-47bd-8a33-8dcf31e2ef47',\n",
       " '9c748dbf-7710-4ec6-9b99-24bf320df9c2']"
      ]
     },
     "execution_count": 32,
     "metadata": {},
     "output_type": "execute_result"
    }
   ],
   "source": [
    "ids"
   ]
  },
  {
   "cell_type": "code",
   "execution_count": 33,
   "metadata": {},
   "outputs": [
    {
     "data": {
      "text/plain": [
       "110"
      ]
     },
     "execution_count": 33,
     "metadata": {},
     "output_type": "execute_result"
    }
   ],
   "source": [
    "len(ids)"
   ]
  },
  {
   "cell_type": "code",
   "execution_count": 36,
   "metadata": {},
   "outputs": [],
   "source": [
    "# db_name = \"health_supplements\"\n",
    "# vector_store.save_local(db_name)"
   ]
  },
  {
   "cell_type": "code",
   "execution_count": 37,
   "metadata": {},
   "outputs": [],
   "source": [
    "# new_vector_store = FAISS.load_local(db_name, embeddings=embeddings, allow_dangerous_deserialization=True)\n",
    "# len(new_vector_store.index_to_docstore_id)"
   ]
  },
  {
   "cell_type": "code",
   "execution_count": 38,
   "metadata": {},
   "outputs": [
    {
     "name": "stdout",
     "output_type": "stream",
     "text": [
      "acids than traditional protein sources. Its numerous benefits have made it a popular choice\n",
      "for snacks and drinks among consumers [3]. Another widely embraced supplement is\n",
      "caffeine, which is found in many sports and food supplements. Caffeine reduces perceived\n",
      "effort, minimizes fatigue and pain, and proves to be effective for endurance and high-\n",
      "intensity activities, which is the choice of consumers [4].\n",
      "Creatine monohydrate is another well-known supplement used to gain muscle mass\n",
      "and support performance and recovery. It is known not to increase fat mass and remains\n",
      "effective even when taken in recommended doses [5]. Despite its popularity in the fitness\n",
      "Foods 2024, 13, 1424. https://doi.org/10.3390/foods13091424\n",
      "https://www.mdpi.com/journal/foods\n",
      "\n",
      "\n",
      "\n",
      "and strength gain among men. We detected more prevalent protein and creatine supplementation\n",
      "among younger compared to older ﬁtness center users, whereas the opposite was found for vitamin\n",
      "supplementation. Other authors made similar observations [23] and it might reﬂect the diﬀerent\n",
      "training goals among age groups, i.e., more focus on strength and muscles among the younger and\n",
      "more focus on health among the older age groups.\n",
      "Comparable to other studies [4], we detected a positive correlation between training frequency\n",
      "and supplement usage. Nevertheless, the correlation is weak and is deﬁnitely not a predictor at the\n",
      "individual level. The subject with the highest supplement intake of 100 weekly servings was training\n",
      "only once a week.\n",
      "\n",
      "\n",
      "\n",
      "Foods 2024, 13, 1424\n",
      "2 of 21\n",
      "and sports industry, evidence suggests that creatine can benefit not only athletes but also\n",
      "the elderly and the general population [6]. Branched-chain amino acids (BCAA) also offer\n",
      "a plethora of benefits for consumers. As explained by Sanz et al. [7], BCAAs are stored\n",
      "directly in muscles and serve as the raw materials needed to build new muscle. This\n",
      "contributes to the overall process of strengthening muscles and alleviating post-workout\n",
      "soreness. Consumers often integrate these supplements into their routines with the aim of\n",
      "optimizing the outcomes they wish to achieve and support overall well-being [1].\n",
      "The sports supplement industry makes for an impressive market share of nearly\n",
      "$12 billion in the health/wellness portfolio and is projected to be worth $24.4 billion\n",
      "by 2025. In a study by Burke [4], which investigated 20 published studies about the\n",
      "prevalence, methods, and reasons for supplement consumption, it is evident from the\n",
      "\n",
      "\n",
      "\n",
      "educated guess of the magnitude of supplement intake, which seems to be even more relevant than the\n",
      "mere prevalence of supplements in use. Future studies should focus more on this parameter to obtain\n",
      "more data about the scale of supplement intake and not only about the prevalence of supplement users,\n",
      "no matter the extent of use. Our data indicate that a signiﬁcant part of the supplement consumers is\n",
      "supplementing on a large scale, i.e., 31% use at least 20 supplement servings per week and 10% use 40\n",
      "or more supplement servings per week.\n",
      "Protein supplements represented the most prevalent products, which is in line with other\n",
      "supplement screening studies [19,23,24]. In line with others [4], we reported a more prevalent protein\n",
      "intake among men compared to women. This correlates with the more prevalent training goal of muscle\n",
      "and strength gain among men. We detected more prevalent protein and creatine supplementation\n",
      "\n",
      "\n",
      "\n"
     ]
    }
   ],
   "source": [
    "question = \"what is used to gain muscle mass?\"\n",
    "docs = vector_store.search(query=question, search_type='similarity')\n",
    "\n",
    "for doc in docs:\n",
    "    print(doc.page_content)\n",
    "    print(\"\\n\\n\")"
   ]
  },
  {
   "cell_type": "code",
   "execution_count": 39,
   "metadata": {},
   "outputs": [],
   "source": [
    "retriever = vector_store.as_retriever(search_type=\"mmr\", search_kwargs = {'k': 3, \n",
    "                                                                          'fetch_k': 100,\n",
    "                                                                          'lambda_mult': 1})"
   ]
  },
  {
   "cell_type": "code",
   "execution_count": 41,
   "metadata": {},
   "outputs": [
    {
     "name": "stdout",
     "output_type": "stream",
     "text": [
      "acids than traditional protein sources. Its numerous benefits have made it a popular choice\n",
      "for snacks and drinks among consumers [3]. Another widely embraced supplement is\n",
      "caffeine, which is found in many sports and food supplements. Caffeine reduces perceived\n",
      "effort, minimizes fatigue and pain, and proves to be effective for endurance and high-\n",
      "intensity activities, which is the choice of consumers [4].\n",
      "Creatine monohydrate is another well-known supplement used to gain muscle mass\n",
      "and support performance and recovery. It is known not to increase fat mass and remains\n",
      "effective even when taken in recommended doses [5]. Despite its popularity in the fitness\n",
      "Foods 2024, 13, 1424. https://doi.org/10.3390/foods13091424\n",
      "https://www.mdpi.com/journal/foods\n",
      "\n",
      "\n",
      "\n",
      "and strength gain among men. We detected more prevalent protein and creatine supplementation\n",
      "among younger compared to older ﬁtness center users, whereas the opposite was found for vitamin\n",
      "supplementation. Other authors made similar observations [23] and it might reﬂect the diﬀerent\n",
      "training goals among age groups, i.e., more focus on strength and muscles among the younger and\n",
      "more focus on health among the older age groups.\n",
      "Comparable to other studies [4], we detected a positive correlation between training frequency\n",
      "and supplement usage. Nevertheless, the correlation is weak and is deﬁnitely not a predictor at the\n",
      "individual level. The subject with the highest supplement intake of 100 weekly servings was training\n",
      "only once a week.\n",
      "\n",
      "\n",
      "\n",
      "Foods 2024, 13, 1424\n",
      "2 of 21\n",
      "and sports industry, evidence suggests that creatine can benefit not only athletes but also\n",
      "the elderly and the general population [6]. Branched-chain amino acids (BCAA) also offer\n",
      "a plethora of benefits for consumers. As explained by Sanz et al. [7], BCAAs are stored\n",
      "directly in muscles and serve as the raw materials needed to build new muscle. This\n",
      "contributes to the overall process of strengthening muscles and alleviating post-workout\n",
      "soreness. Consumers often integrate these supplements into their routines with the aim of\n",
      "optimizing the outcomes they wish to achieve and support overall well-being [1].\n",
      "The sports supplement industry makes for an impressive market share of nearly\n",
      "$12 billion in the health/wellness portfolio and is projected to be worth $24.4 billion\n",
      "by 2025. In a study by Burke [4], which investigated 20 published studies about the\n",
      "prevalence, methods, and reasons for supplement consumption, it is evident from the\n",
      "\n",
      "\n",
      "\n"
     ]
    }
   ],
   "source": [
    "docs = retriever.invoke(question)\n",
    "for doc in docs:\n",
    "    print(doc.page_content)\n",
    "    print(\"\\n\\n\")"
   ]
  },
  {
   "cell_type": "code",
   "execution_count": 42,
   "metadata": {},
   "outputs": [],
   "source": [
    "question = \"what is used to reduce weight?\"\n",
    "# question = \"what are side effects of supplements?\"\n",
    "# question = \"what are the benefits of supplements?\"\n",
    "# question = \"what are the benefits of BCAA supplements?\"\n",
    "docs = retriever.invoke(question)"
   ]
  },
  {
   "cell_type": "code",
   "execution_count": 43,
   "metadata": {},
   "outputs": [],
   "source": [
    "from langchain import hub\n",
    "from langchain_core.output_parsers import StrOutputParser\n",
    "from langchain_core.runnables import RunnablePassthrough\n",
    "from langchain_core.prompts import ChatPromptTemplate\n",
    "\n",
    "from langchain_ollama import ChatOllama"
   ]
  },
  {
   "cell_type": "code",
   "execution_count": 44,
   "metadata": {},
   "outputs": [
    {
     "data": {
      "text/plain": [
       "AIMessage(content='How can I assist you today?', additional_kwargs={}, response_metadata={'model': 'llama3.2:1b', 'created_at': '2025-01-06T20:56:48.1829329Z', 'done': True, 'done_reason': 'stop', 'total_duration': 9563016500, 'load_duration': 4375453400, 'prompt_eval_count': 26, 'prompt_eval_duration': 3882000000, 'eval_count': 8, 'eval_duration': 1151000000, 'message': Message(role='assistant', content='', images=None, tool_calls=None)}, id='run-8290ea81-d4b8-4eaf-87f7-e11694021caf-0', usage_metadata={'input_tokens': 26, 'output_tokens': 8, 'total_tokens': 34})"
      ]
     },
     "execution_count": 44,
     "metadata": {},
     "output_type": "execute_result"
    }
   ],
   "source": [
    "model = ChatOllama(model=\"llama3.2:1b\", base_url=\"http://localhost:11434\")\n",
    "\n",
    "model.invoke(\"hi\")"
   ]
  },
  {
   "cell_type": "code",
   "execution_count": 45,
   "metadata": {},
   "outputs": [],
   "source": [
    "prompt = hub.pull(\"rlm/rag-prompt\")"
   ]
  },
  {
   "cell_type": "code",
   "execution_count": 51,
   "metadata": {},
   "outputs": [],
   "source": [
    "prompt = \"\"\"\n",
    "    You are an assistant for question-answering tasks. Use the following pieces of retrieved context to answer the question.\n",
    "    If you don't know the answer, just say that you don't know.\n",
    "    Answer in bullet points. Make sure your answer is relevant to the question and it is answered from the context only.\n",
    "    Question: {question} \n",
    "    Context: {context} \n",
    "    Answer:\n",
    "\"\"\"\n",
    "\n",
    "prompt = ChatPromptTemplate.from_template(prompt)"
   ]
  },
  {
   "cell_type": "code",
   "execution_count": 52,
   "metadata": {},
   "outputs": [],
   "source": [
    "def format_docs(docs):\n",
    "    return \"\\n\\n\".join([doc.page_content for doc in docs])\n",
    "\n",
    "# print(format_docs(docs))"
   ]
  },
  {
   "cell_type": "code",
   "execution_count": 53,
   "metadata": {},
   "outputs": [],
   "source": [
    "rag_chain = (\n",
    "    {\"context\": retriever|format_docs, \"question\": RunnablePassthrough()}\n",
    "    | prompt\n",
    "    | model\n",
    "    | StrOutputParser()\n",
    ")"
   ]
  },
  {
   "cell_type": "code",
   "execution_count": 54,
   "metadata": {},
   "outputs": [
    {
     "name": "stdout",
     "output_type": "stream",
     "text": [
      "Here are the answers to the question \"What is used to increase mass of the Earth?\" in bullet points:\n",
      "\n",
      "• None - There is no mention of any specific supplement or substance being used to increase the mass of the Earth in the given context.\n",
      "• No direct answer, but it mentions that effort and movement are affected by automatic and controlled precursors. This implies that external factors can influence individual behavior and physical activity levels.\n"
     ]
    }
   ],
   "source": [
    "question = \"what is used to increase mass of the Earth?\"\n",
    "\n",
    "output = rag_chain.invoke(question)\n",
    "print(output)"
   ]
  },
  {
   "cell_type": "code",
   "execution_count": 56,
   "metadata": {},
   "outputs": [
    {
     "name": "stdout",
     "output_type": "stream",
     "text": [
      "Here are the side effects of supplements in bullet points based on the provided context:\n",
      "\n",
      "• Supplements may cause negative health outcomes or performance issues when used inappropriately.\n",
      "• Many supplements lack evidence for any potentially useful health or performance benefits, which can lead to misuse and harm.\n",
      "• Contamination with substances like non-declared anabolic steroids, stimulants, or heavy metals is a concern.\n",
      "• Unsubstantiated claims made by manufacturers can mislead athletes and expose them to harmful effects.\n",
      "• The internet, physicians, and coaches/trainers are the three leading sources of information on potential risks and side effects of supplements.\n",
      "• Consumers often seek out information from these sources if they believe there are risks and benefits to be communicated on the label.\n",
      "• Knowledge is a significant variable in consumers' attitudes, beliefs, and intentions toward supplement use.\n",
      "• As knowledge grows, so does understanding, belief, and intention to use supplements.\n"
     ]
    }
   ],
   "source": [
    "# question = \"what is used to gain muscle mass?\"\n",
    "# question = \"what is used to reduce weight?\"\n",
    "question = \"what are side effects of supplements?\"\n",
    "# question = \"what are the benefits of supplements?\"\n",
    "# question = \"what are the benefits of BCAA supplements?\"\n",
    "\n",
    "#question = \"what is used to increase mass of the Earth?\"\n",
    "\n",
    "output = rag_chain.invoke(question)\n",
    "print(output)"
   ]
  },
  {
   "cell_type": "code",
   "execution_count": null,
   "metadata": {},
   "outputs": [],
   "source": []
  }
 ],
 "metadata": {
  "kernelspec": {
   "display_name": "Python 3",
   "language": "python",
   "name": "python3"
  },
  "language_info": {
   "codemirror_mode": {
    "name": "ipython",
    "version": 3
   },
   "file_extension": ".py",
   "mimetype": "text/x-python",
   "name": "python",
   "nbconvert_exporter": "python",
   "pygments_lexer": "ipython3",
   "version": "3.10.9"
  }
 },
 "nbformat": 4,
 "nbformat_minor": 2
}
